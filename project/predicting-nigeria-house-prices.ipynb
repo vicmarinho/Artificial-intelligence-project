{
 "cells": [
  {
   "cell_type": "markdown",
   "id": "5fee883a",
   "metadata": {
    "papermill": {
     "duration": 0.017804,
     "end_time": "2023-08-30T01:39:22.690584",
     "exception": false,
     "start_time": "2023-08-30T01:39:22.672780",
     "status": "completed"
    },
    "tags": []
   },
   "source": [
    "## INTRODUCTION\n",
    "\n",
    "Exploring the Nigerian house dataset, in this notebook we will be exploring the dataset, cleaning it and finally building a model to predict the price of a house based on the features in the dataset.\n",
    "\n",
    "This datasets contains Houses listings in Nigeria and their prices based on Location and other parameters.\n",
    "\n",
    "\n",
    "\n",
    "Parameters:\n",
    "\n",
    "- bedrooms -> number of bedrooms in the houses\n",
    "- bathrooms -> number of bathrooms in the houses\n",
    "- toilets -> number of toilets \n",
    "- parking_space\n",
    "- title -> house type\n",
    "- town -> town in which the house is located\n",
    "- state -> state within Nigeria in which the house is located and finally\n",
    "- price -> the target column."
   ]
  },
  {
   "cell_type": "code",
   "execution_count": null,
   "id": "b00a3375",
   "metadata": {
    "execution": {
     "iopub.execute_input": "2023-08-30T01:39:22.729123Z",
     "iopub.status.busy": "2023-08-30T01:39:22.728109Z",
     "iopub.status.idle": "2023-08-30T01:39:25.121358Z",
     "shell.execute_reply": "2023-08-30T01:39:25.119888Z"
    },
    "papermill": {
     "duration": 2.416894,
     "end_time": "2023-08-30T01:39:25.124681",
     "exception": false,
     "start_time": "2023-08-30T01:39:22.707787",
     "status": "completed"
    },
    "tags": []
   },
   "outputs": [],
   "source": [
    "import numpy as np\n",
    "import pandas as pd\n",
    "import matplotlib.pyplot as plt\n",
    "import seaborn as sns\n",
    "\n",
    "from sklearn.preprocessing import OneHotEncoder, StandardScaler\n",
    "from sklearn.linear_model import LinearRegression, Ridge, Lasso, ElasticNet\n",
    "from sklearn.ensemble import RandomForestRegressor, GradientBoostingRegressor\n",
    "from sklearn.tree import DecisionTreeRegressor\n",
    "from sklearn.neighbors import KNeighborsRegressor\n",
    "from sklearn.svm import SVR\n",
    "from sklearn.model_selection import train_test_split\n",
    "from sklearn.metrics import mean_squared_error, r2_score, accuracy_score\n",
    "from xgboost import XGBRegressor\n",
    "from sklearn.model_selection import GridSearchCV\n",
    "from sklearn.model_selection import RandomizedSearchCV\n",
    "from ipywidgets import interact, IntSlider\n",
    "import warnings\n",
    "\n",
    "warnings.filterwarnings(\"ignore\")"
   ]
  },
  {
   "cell_type": "code",
   "execution_count": 2,
   "id": "9e803a46",
   "metadata": {
    "execution": {
     "iopub.execute_input": "2023-08-30T01:39:25.164707Z",
     "iopub.status.busy": "2023-08-30T01:39:25.164057Z",
     "iopub.status.idle": "2023-08-30T01:39:25.246670Z",
     "shell.execute_reply": "2023-08-30T01:39:25.245463Z"
    },
    "papermill": {
     "duration": 0.105824,
     "end_time": "2023-08-30T01:39:25.249746",
     "exception": false,
     "start_time": "2023-08-30T01:39:25.143922",
     "status": "completed"
    },
    "tags": []
   },
   "outputs": [],
   "source": [
    "data = pd.read_csv(\"../input/nigeria-houses-and-prices-dataset/nigeria_houses_data.csv\")"
   ]
  },
  {
   "cell_type": "code",
   "execution_count": 3,
   "id": "fc056781",
   "metadata": {
    "execution": {
     "iopub.execute_input": "2023-08-30T01:39:25.289252Z",
     "iopub.status.busy": "2023-08-30T01:39:25.288822Z",
     "iopub.status.idle": "2023-08-30T01:39:25.323466Z",
     "shell.execute_reply": "2023-08-30T01:39:25.322315Z"
    },
    "papermill": {
     "duration": 0.057592,
     "end_time": "2023-08-30T01:39:25.326183",
     "exception": false,
     "start_time": "2023-08-30T01:39:25.268591",
     "status": "completed"
    },
    "tags": []
   },
   "outputs": [
    {
     "data": {
      "text/html": [
       "<div>\n",
       "<style scoped>\n",
       "    .dataframe tbody tr th:only-of-type {\n",
       "        vertical-align: middle;\n",
       "    }\n",
       "\n",
       "    .dataframe tbody tr th {\n",
       "        vertical-align: top;\n",
       "    }\n",
       "\n",
       "    .dataframe thead th {\n",
       "        text-align: right;\n",
       "    }\n",
       "</style>\n",
       "<table border=\"1\" class=\"dataframe\">\n",
       "  <thead>\n",
       "    <tr style=\"text-align: right;\">\n",
       "      <th></th>\n",
       "      <th>bedrooms</th>\n",
       "      <th>bathrooms</th>\n",
       "      <th>toilets</th>\n",
       "      <th>parking_space</th>\n",
       "      <th>title</th>\n",
       "      <th>town</th>\n",
       "      <th>state</th>\n",
       "      <th>price</th>\n",
       "    </tr>\n",
       "  </thead>\n",
       "  <tbody>\n",
       "    <tr>\n",
       "      <th>0</th>\n",
       "      <td>6.0</td>\n",
       "      <td>5.0</td>\n",
       "      <td>5.0</td>\n",
       "      <td>4.0</td>\n",
       "      <td>Detached Duplex</td>\n",
       "      <td>Mabushi</td>\n",
       "      <td>Abuja</td>\n",
       "      <td>450000000.0</td>\n",
       "    </tr>\n",
       "    <tr>\n",
       "      <th>1</th>\n",
       "      <td>4.0</td>\n",
       "      <td>5.0</td>\n",
       "      <td>5.0</td>\n",
       "      <td>4.0</td>\n",
       "      <td>Terraced Duplexes</td>\n",
       "      <td>Katampe</td>\n",
       "      <td>Abuja</td>\n",
       "      <td>800000000.0</td>\n",
       "    </tr>\n",
       "    <tr>\n",
       "      <th>2</th>\n",
       "      <td>4.0</td>\n",
       "      <td>5.0</td>\n",
       "      <td>5.0</td>\n",
       "      <td>4.0</td>\n",
       "      <td>Detached Duplex</td>\n",
       "      <td>Lekki</td>\n",
       "      <td>Lagos</td>\n",
       "      <td>120000000.0</td>\n",
       "    </tr>\n",
       "    <tr>\n",
       "      <th>3</th>\n",
       "      <td>4.0</td>\n",
       "      <td>4.0</td>\n",
       "      <td>5.0</td>\n",
       "      <td>6.0</td>\n",
       "      <td>Detached Duplex</td>\n",
       "      <td>Ajah</td>\n",
       "      <td>Lagos</td>\n",
       "      <td>40000000.0</td>\n",
       "    </tr>\n",
       "    <tr>\n",
       "      <th>4</th>\n",
       "      <td>4.0</td>\n",
       "      <td>4.0</td>\n",
       "      <td>5.0</td>\n",
       "      <td>2.0</td>\n",
       "      <td>Semi Detached Duplex</td>\n",
       "      <td>Lekki</td>\n",
       "      <td>Lagos</td>\n",
       "      <td>75000000.0</td>\n",
       "    </tr>\n",
       "    <tr>\n",
       "      <th>...</th>\n",
       "      <td>...</td>\n",
       "      <td>...</td>\n",
       "      <td>...</td>\n",
       "      <td>...</td>\n",
       "      <td>...</td>\n",
       "      <td>...</td>\n",
       "      <td>...</td>\n",
       "      <td>...</td>\n",
       "    </tr>\n",
       "    <tr>\n",
       "      <th>24321</th>\n",
       "      <td>2.0</td>\n",
       "      <td>2.0</td>\n",
       "      <td>2.0</td>\n",
       "      <td>4.0</td>\n",
       "      <td>Block of Flats</td>\n",
       "      <td>Kabusa</td>\n",
       "      <td>Abuja</td>\n",
       "      <td>15000000.0</td>\n",
       "    </tr>\n",
       "    <tr>\n",
       "      <th>24322</th>\n",
       "      <td>4.0</td>\n",
       "      <td>5.0</td>\n",
       "      <td>5.0</td>\n",
       "      <td>4.0</td>\n",
       "      <td>Block of Flats</td>\n",
       "      <td>Ado-Odo/Ota</td>\n",
       "      <td>Ogun</td>\n",
       "      <td>25000000.0</td>\n",
       "    </tr>\n",
       "    <tr>\n",
       "      <th>24323</th>\n",
       "      <td>4.0</td>\n",
       "      <td>5.0</td>\n",
       "      <td>5.0</td>\n",
       "      <td>4.0</td>\n",
       "      <td>Detached Duplex</td>\n",
       "      <td>Lekki</td>\n",
       "      <td>Lagos</td>\n",
       "      <td>68000000.0</td>\n",
       "    </tr>\n",
       "    <tr>\n",
       "      <th>24324</th>\n",
       "      <td>3.0</td>\n",
       "      <td>4.0</td>\n",
       "      <td>4.0</td>\n",
       "      <td>3.0</td>\n",
       "      <td>Block of Flats</td>\n",
       "      <td>Victoria Island (VI)</td>\n",
       "      <td>Lagos</td>\n",
       "      <td>78000000.0</td>\n",
       "    </tr>\n",
       "    <tr>\n",
       "      <th>24325</th>\n",
       "      <td>4.0</td>\n",
       "      <td>5.0</td>\n",
       "      <td>5.0</td>\n",
       "      <td>4.0</td>\n",
       "      <td>Detached Duplex</td>\n",
       "      <td>Lekki</td>\n",
       "      <td>Lagos</td>\n",
       "      <td>65000000.0</td>\n",
       "    </tr>\n",
       "  </tbody>\n",
       "</table>\n",
       "<p>24326 rows × 8 columns</p>\n",
       "</div>"
      ],
      "text/plain": [
       "       bedrooms  bathrooms  toilets  parking_space                 title  \\\n",
       "0           6.0        5.0      5.0            4.0       Detached Duplex   \n",
       "1           4.0        5.0      5.0            4.0     Terraced Duplexes   \n",
       "2           4.0        5.0      5.0            4.0       Detached Duplex   \n",
       "3           4.0        4.0      5.0            6.0       Detached Duplex   \n",
       "4           4.0        4.0      5.0            2.0  Semi Detached Duplex   \n",
       "...         ...        ...      ...            ...                   ...   \n",
       "24321       2.0        2.0      2.0            4.0        Block of Flats   \n",
       "24322       4.0        5.0      5.0            4.0        Block of Flats   \n",
       "24323       4.0        5.0      5.0            4.0       Detached Duplex   \n",
       "24324       3.0        4.0      4.0            3.0        Block of Flats   \n",
       "24325       4.0        5.0      5.0            4.0       Detached Duplex   \n",
       "\n",
       "                       town  state        price  \n",
       "0                   Mabushi  Abuja  450000000.0  \n",
       "1                   Katampe  Abuja  800000000.0  \n",
       "2                     Lekki  Lagos  120000000.0  \n",
       "3                      Ajah  Lagos   40000000.0  \n",
       "4                     Lekki  Lagos   75000000.0  \n",
       "...                     ...    ...          ...  \n",
       "24321                Kabusa  Abuja   15000000.0  \n",
       "24322           Ado-Odo/Ota   Ogun   25000000.0  \n",
       "24323                 Lekki  Lagos   68000000.0  \n",
       "24324  Victoria Island (VI)  Lagos   78000000.0  \n",
       "24325                 Lekki  Lagos   65000000.0  \n",
       "\n",
       "[24326 rows x 8 columns]"
      ]
     },
     "execution_count": 3,
     "metadata": {},
     "output_type": "execute_result"
    }
   ],
   "source": [
    "data"
   ]
  },
  {
   "cell_type": "code",
   "execution_count": 4,
   "id": "d04b72a5",
   "metadata": {
    "execution": {
     "iopub.execute_input": "2023-08-30T01:39:25.365805Z",
     "iopub.status.busy": "2023-08-30T01:39:25.365021Z",
     "iopub.status.idle": "2023-08-30T01:39:25.408981Z",
     "shell.execute_reply": "2023-08-30T01:39:25.407282Z"
    },
    "papermill": {
     "duration": 0.067038,
     "end_time": "2023-08-30T01:39:25.411875",
     "exception": false,
     "start_time": "2023-08-30T01:39:25.344837",
     "status": "completed"
    },
    "tags": []
   },
   "outputs": [
    {
     "name": "stdout",
     "output_type": "stream",
     "text": [
      "<class 'pandas.core.frame.DataFrame'>\n",
      "RangeIndex: 24326 entries, 0 to 24325\n",
      "Data columns (total 8 columns):\n",
      " #   Column         Non-Null Count  Dtype  \n",
      "---  ------         --------------  -----  \n",
      " 0   bedrooms       24326 non-null  float64\n",
      " 1   bathrooms      24326 non-null  float64\n",
      " 2   toilets        24326 non-null  float64\n",
      " 3   parking_space  24326 non-null  float64\n",
      " 4   title          24326 non-null  object \n",
      " 5   town           24326 non-null  object \n",
      " 6   state          24326 non-null  object \n",
      " 7   price          24326 non-null  float64\n",
      "dtypes: float64(5), object(3)\n",
      "memory usage: 1.5+ MB\n"
     ]
    }
   ],
   "source": [
    "data.info()"
   ]
  },
  {
   "cell_type": "markdown",
   "id": "2547a6c4",
   "metadata": {
    "papermill": {
     "duration": 0.018789,
     "end_time": "2023-08-30T01:39:25.449674",
     "exception": false,
     "start_time": "2023-08-30T01:39:25.430885",
     "status": "completed"
    },
    "tags": []
   },
   "source": [
    "## Exlporatory Data Analysis"
   ]
  },
  {
   "cell_type": "code",
   "execution_count": 5,
   "id": "71ea59fe",
   "metadata": {
    "execution": {
     "iopub.execute_input": "2023-08-30T01:39:25.490592Z",
     "iopub.status.busy": "2023-08-30T01:39:25.489900Z",
     "iopub.status.idle": "2023-08-30T01:39:25.499691Z",
     "shell.execute_reply": "2023-08-30T01:39:25.498634Z"
    },
    "papermill": {
     "duration": 0.033011,
     "end_time": "2023-08-30T01:39:25.502032",
     "exception": false,
     "start_time": "2023-08-30T01:39:25.469021",
     "status": "completed"
    },
    "tags": []
   },
   "outputs": [
    {
     "data": {
      "text/plain": [
       "array(['Detached Duplex', 'Terraced Duplexes', 'Semi Detached Duplex',\n",
       "       'Detached Bungalow', 'Block of Flats', 'Semi Detached Bungalow',\n",
       "       'Terraced Bungalow'], dtype=object)"
      ]
     },
     "execution_count": 5,
     "metadata": {},
     "output_type": "execute_result"
    }
   ],
   "source": [
    "data['title'].unique()"
   ]
  },
  {
   "cell_type": "code",
   "execution_count": 6,
   "id": "47cb2701",
   "metadata": {
    "execution": {
     "iopub.execute_input": "2023-08-30T01:39:25.540498Z",
     "iopub.status.busy": "2023-08-30T01:39:25.539733Z",
     "iopub.status.idle": "2023-08-30T01:39:25.549037Z",
     "shell.execute_reply": "2023-08-30T01:39:25.548145Z"
    },
    "papermill": {
     "duration": 0.031145,
     "end_time": "2023-08-30T01:39:25.551310",
     "exception": false,
     "start_time": "2023-08-30T01:39:25.520165",
     "status": "completed"
    },
    "tags": []
   },
   "outputs": [
    {
     "data": {
      "text/plain": [
       "array(['Abuja', 'Lagos', 'Edo', 'Ogun', 'Oyo', 'Imo', 'Anambara',\n",
       "       'Rivers', 'Enugu', 'Kaduna', 'Kwara', 'Nasarawa', 'Abia', 'Delta',\n",
       "       'Akwa Ibom', 'Osun', 'Ekiti', 'Cross River', 'Kogi', 'Plateau',\n",
       "       'Kano', 'Katsina', 'Bayelsa', 'Borno', 'Niger'], dtype=object)"
      ]
     },
     "execution_count": 6,
     "metadata": {},
     "output_type": "execute_result"
    }
   ],
   "source": [
    "data['state'].unique()"
   ]
  },
  {
   "cell_type": "code",
   "execution_count": 7,
   "id": "1eccc5bb",
   "metadata": {
    "execution": {
     "iopub.execute_input": "2023-08-30T01:39:25.590564Z",
     "iopub.status.busy": "2023-08-30T01:39:25.589800Z",
     "iopub.status.idle": "2023-08-30T01:39:26.105443Z",
     "shell.execute_reply": "2023-08-30T01:39:26.104584Z"
    },
    "papermill": {
     "duration": 0.538145,
     "end_time": "2023-08-30T01:39:26.108153",
     "exception": false,
     "start_time": "2023-08-30T01:39:25.570008",
     "status": "completed"
    },
    "tags": []
   },
   "outputs": [
    {
     "data": {
      "text/plain": [
       "<Axes: xlabel='state'>"
      ]
     },
     "execution_count": 7,
     "metadata": {},
     "output_type": "execute_result"
    },
    {
     "data": {
      "image/png": "[encoded data removed]",
      "text/plain": [
       "<Figure size 640x480 with 1 Axes>"
      ]
     },
     "metadata": {},
     "output_type": "display_data"
    }
   ],
   "source": [
    "data.groupby('state')['price'].mean().sort_values(ascending=False).plot(kind='bar')"
   ]
  },
  {
   "cell_type": "markdown",
   "id": "a5620cfa",
   "metadata": {
    "papermill": {
     "duration": 0.019505,
     "end_time": "2023-08-30T01:39:26.147339",
     "exception": false,
     "start_time": "2023-08-30T01:39:26.127834",
     "status": "completed"
    },
    "tags": []
   },
   "source": [
    "Lagos seems to be off the league of other states and this information may possibily because of outliers"
   ]
  },
  {
   "cell_type": "code",
   "execution_count": 8,
   "id": "41d4c8cc",
   "metadata": {
    "execution": {
     "iopub.execute_input": "2023-08-30T01:39:26.189377Z",
     "iopub.status.busy": "2023-08-30T01:39:26.188616Z",
     "iopub.status.idle": "2023-08-30T01:39:26.603813Z",
     "shell.execute_reply": "2023-08-30T01:39:26.602187Z"
    },
    "papermill": {
     "duration": 0.440776,
     "end_time": "2023-08-30T01:39:26.607791",
     "exception": false,
     "start_time": "2023-08-30T01:39:26.167015",
     "status": "completed"
    },
    "tags": []
   },
   "outputs": [
    {
     "data": {
      "text/plain": [
       "<Axes: xlabel='town'>"
      ]
     },
     "execution_count": 8,
     "metadata": {},
     "output_type": "execute_result"
    },
    {
     "data": {
      "image/png": "[encoded data removed]",
      "text/plain": [
       "<Figure size 640x480 with 1 Axes>"
      ]
     },
     "metadata": {},
     "output_type": "display_data"
    }
   ],
   "source": [
    "data.groupby('town')['price'].mean().sort_values(ascending=False).head(20).plot(kind='bar')"
   ]
  },
  {
   "cell_type": "markdown",
   "id": "5bf86f5f",
   "metadata": {
    "papermill": {
     "duration": 0.019461,
     "end_time": "2023-08-30T01:39:26.648013",
     "exception": false,
     "start_time": "2023-08-30T01:39:26.628552",
     "status": "completed"
    },
    "tags": []
   },
   "source": [
    "just a confirmation of the previous, Ikoyi is probably the most expensive area in Lagos and that is what is causing the outliers, lets further confirm this"
   ]
  },
  {
   "cell_type": "code",
   "execution_count": 9,
   "id": "9cbe921b",
   "metadata": {
    "execution": {
     "iopub.execute_input": "2023-08-30T01:39:26.689713Z",
     "iopub.status.busy": "2023-08-30T01:39:26.689079Z",
     "iopub.status.idle": "2023-08-30T01:39:26.718422Z",
     "shell.execute_reply": "2023-08-30T01:39:26.717235Z"
    },
    "papermill": {
     "duration": 0.053961,
     "end_time": "2023-08-30T01:39:26.721708",
     "exception": false,
     "start_time": "2023-08-30T01:39:26.667747",
     "status": "completed"
    },
    "tags": []
   },
   "outputs": [
    {
     "name": "stdout",
     "output_type": "stream",
     "text": [
      "bedrooms                       9.0\n",
      "bathrooms                      9.0\n",
      "toilets                        9.0\n",
      "parking_space                  9.0\n",
      "title            Terraced Duplexes\n",
      "town                         Ikoyi\n",
      "state                        Lagos\n",
      "price              1800000000000.0\n",
      "dtype: object\n",
      "bedrooms                       7.0\n",
      "bathrooms                      8.0\n",
      "toilets                        8.0\n",
      "parking_space                  8.0\n",
      "title            Terraced Bungalow\n",
      "town                  Ifako-Ijaiye\n",
      "state                        Lagos\n",
      "price                55000000000.0\n",
      "dtype: object\n",
      "bedrooms                       9.0\n",
      "bathrooms                      9.0\n",
      "toilets                        9.0\n",
      "parking_space                  9.0\n",
      "title            Terraced Duplexes\n",
      "town                         Ikeja\n",
      "state                        Lagos\n",
      "price                 1440000000.0\n",
      "dtype: object\n"
     ]
    }
   ],
   "source": [
    "# Detecting suspected outlier\n",
    "print(data[data[\"town\"]==\"Ikoyi\"].max())\n",
    "print(data[data[\"town\"]==\"Ifako-Ijaiye\"].max())\n",
    "print(data[data[\"town\"]==\"Ikeja\"].max())"
   ]
  },
  {
   "cell_type": "code",
   "execution_count": 10,
   "id": "deb4fd84",
   "metadata": {
    "execution": {
     "iopub.execute_input": "2023-08-30T01:39:26.766243Z",
     "iopub.status.busy": "2023-08-30T01:39:26.765803Z",
     "iopub.status.idle": "2023-08-30T01:39:26.796944Z",
     "shell.execute_reply": "2023-08-30T01:39:26.795567Z"
    },
    "papermill": {
     "duration": 0.056751,
     "end_time": "2023-08-30T01:39:26.799884",
     "exception": false,
     "start_time": "2023-08-30T01:39:26.743133",
     "status": "completed"
    },
    "tags": []
   },
   "outputs": [
    {
     "data": {
      "text/html": [
       "<div>\n",
       "<style scoped>\n",
       "    .dataframe tbody tr th:only-of-type {\n",
       "        vertical-align: middle;\n",
       "    }\n",
       "\n",
       "    .dataframe tbody tr th {\n",
       "        vertical-align: top;\n",
       "    }\n",
       "\n",
       "    .dataframe thead th {\n",
       "        text-align: right;\n",
       "    }\n",
       "</style>\n",
       "<table border=\"1\" class=\"dataframe\">\n",
       "  <thead>\n",
       "    <tr style=\"text-align: right;\">\n",
       "      <th></th>\n",
       "      <th>bedrooms</th>\n",
       "      <th>bathrooms</th>\n",
       "      <th>toilets</th>\n",
       "      <th>parking_space</th>\n",
       "      <th>title</th>\n",
       "      <th>town</th>\n",
       "      <th>state</th>\n",
       "      <th>price</th>\n",
       "    </tr>\n",
       "  </thead>\n",
       "  <tbody>\n",
       "    <tr>\n",
       "      <th>2</th>\n",
       "      <td>4.0</td>\n",
       "      <td>5.0</td>\n",
       "      <td>5.0</td>\n",
       "      <td>4.0</td>\n",
       "      <td>Detached Duplex</td>\n",
       "      <td>Lekki</td>\n",
       "      <td>Lagos</td>\n",
       "      <td>120000000.0</td>\n",
       "    </tr>\n",
       "    <tr>\n",
       "      <th>3</th>\n",
       "      <td>4.0</td>\n",
       "      <td>4.0</td>\n",
       "      <td>5.0</td>\n",
       "      <td>6.0</td>\n",
       "      <td>Detached Duplex</td>\n",
       "      <td>Ajah</td>\n",
       "      <td>Lagos</td>\n",
       "      <td>40000000.0</td>\n",
       "    </tr>\n",
       "    <tr>\n",
       "      <th>4</th>\n",
       "      <td>4.0</td>\n",
       "      <td>4.0</td>\n",
       "      <td>5.0</td>\n",
       "      <td>2.0</td>\n",
       "      <td>Semi Detached Duplex</td>\n",
       "      <td>Lekki</td>\n",
       "      <td>Lagos</td>\n",
       "      <td>75000000.0</td>\n",
       "    </tr>\n",
       "    <tr>\n",
       "      <th>6</th>\n",
       "      <td>4.0</td>\n",
       "      <td>5.0</td>\n",
       "      <td>5.0</td>\n",
       "      <td>4.0</td>\n",
       "      <td>Detached Duplex</td>\n",
       "      <td>Lekki</td>\n",
       "      <td>Lagos</td>\n",
       "      <td>65000000.0</td>\n",
       "    </tr>\n",
       "    <tr>\n",
       "      <th>8</th>\n",
       "      <td>1.0</td>\n",
       "      <td>1.0</td>\n",
       "      <td>1.0</td>\n",
       "      <td>1.0</td>\n",
       "      <td>Detached Duplex</td>\n",
       "      <td>Lekki</td>\n",
       "      <td>Lagos</td>\n",
       "      <td>200000000.0</td>\n",
       "    </tr>\n",
       "    <tr>\n",
       "      <th>...</th>\n",
       "      <td>...</td>\n",
       "      <td>...</td>\n",
       "      <td>...</td>\n",
       "      <td>...</td>\n",
       "      <td>...</td>\n",
       "      <td>...</td>\n",
       "      <td>...</td>\n",
       "      <td>...</td>\n",
       "    </tr>\n",
       "    <tr>\n",
       "      <th>24318</th>\n",
       "      <td>4.0</td>\n",
       "      <td>5.0</td>\n",
       "      <td>5.0</td>\n",
       "      <td>4.0</td>\n",
       "      <td>Semi Detached Duplex</td>\n",
       "      <td>Lekki</td>\n",
       "      <td>Lagos</td>\n",
       "      <td>110000000.0</td>\n",
       "    </tr>\n",
       "    <tr>\n",
       "      <th>24320</th>\n",
       "      <td>3.0</td>\n",
       "      <td>4.0</td>\n",
       "      <td>4.0</td>\n",
       "      <td>5.0</td>\n",
       "      <td>Detached Duplex</td>\n",
       "      <td>Lekki</td>\n",
       "      <td>Lagos</td>\n",
       "      <td>80000000.0</td>\n",
       "    </tr>\n",
       "    <tr>\n",
       "      <th>24323</th>\n",
       "      <td>4.0</td>\n",
       "      <td>5.0</td>\n",
       "      <td>5.0</td>\n",
       "      <td>4.0</td>\n",
       "      <td>Detached Duplex</td>\n",
       "      <td>Lekki</td>\n",
       "      <td>Lagos</td>\n",
       "      <td>68000000.0</td>\n",
       "    </tr>\n",
       "    <tr>\n",
       "      <th>24324</th>\n",
       "      <td>3.0</td>\n",
       "      <td>4.0</td>\n",
       "      <td>4.0</td>\n",
       "      <td>3.0</td>\n",
       "      <td>Block of Flats</td>\n",
       "      <td>Victoria Island (VI)</td>\n",
       "      <td>Lagos</td>\n",
       "      <td>78000000.0</td>\n",
       "    </tr>\n",
       "    <tr>\n",
       "      <th>24325</th>\n",
       "      <td>4.0</td>\n",
       "      <td>5.0</td>\n",
       "      <td>5.0</td>\n",
       "      <td>4.0</td>\n",
       "      <td>Detached Duplex</td>\n",
       "      <td>Lekki</td>\n",
       "      <td>Lagos</td>\n",
       "      <td>65000000.0</td>\n",
       "    </tr>\n",
       "  </tbody>\n",
       "</table>\n",
       "<p>17491 rows × 8 columns</p>\n",
       "</div>"
      ],
      "text/plain": [
       "       bedrooms  bathrooms  toilets  parking_space                 title  \\\n",
       "2           4.0        5.0      5.0            4.0       Detached Duplex   \n",
       "3           4.0        4.0      5.0            6.0       Detached Duplex   \n",
       "4           4.0        4.0      5.0            2.0  Semi Detached Duplex   \n",
       "6           4.0        5.0      5.0            4.0       Detached Duplex   \n",
       "8           1.0        1.0      1.0            1.0       Detached Duplex   \n",
       "...         ...        ...      ...            ...                   ...   \n",
       "24318       4.0        5.0      5.0            4.0  Semi Detached Duplex   \n",
       "24320       3.0        4.0      4.0            5.0       Detached Duplex   \n",
       "24323       4.0        5.0      5.0            4.0       Detached Duplex   \n",
       "24324       3.0        4.0      4.0            3.0        Block of Flats   \n",
       "24325       4.0        5.0      5.0            4.0       Detached Duplex   \n",
       "\n",
       "                       town  state        price  \n",
       "2                     Lekki  Lagos  120000000.0  \n",
       "3                      Ajah  Lagos   40000000.0  \n",
       "4                     Lekki  Lagos   75000000.0  \n",
       "6                     Lekki  Lagos   65000000.0  \n",
       "8                     Lekki  Lagos  200000000.0  \n",
       "...                     ...    ...          ...  \n",
       "24318                 Lekki  Lagos  110000000.0  \n",
       "24320                 Lekki  Lagos   80000000.0  \n",
       "24323                 Lekki  Lagos   68000000.0  \n",
       "24324  Victoria Island (VI)  Lagos   78000000.0  \n",
       "24325                 Lekki  Lagos   65000000.0  \n",
       "\n",
       "[17491 rows x 8 columns]"
      ]
     },
     "execution_count": 10,
     "metadata": {},
     "output_type": "execute_result"
    }
   ],
   "source": [
    "trimmed_data = q1, q9 = data[\"price\"].quantile([0.15,0.85])\n",
    "mask_data = data[\"price\"].between(q1,q9)\n",
    "trimmed_data = data[mask_data]\n",
    "trimmed_data"
   ]
  },
  {
   "cell_type": "code",
   "execution_count": 11,
   "id": "c0f97101",
   "metadata": {
    "execution": {
     "iopub.execute_input": "2023-08-30T01:39:26.845063Z",
     "iopub.status.busy": "2023-08-30T01:39:26.844660Z",
     "iopub.status.idle": "2023-08-30T01:39:26.854568Z",
     "shell.execute_reply": "2023-08-30T01:39:26.853744Z"
    },
    "papermill": {
     "duration": 0.035451,
     "end_time": "2023-08-30T01:39:26.857002",
     "exception": false,
     "start_time": "2023-08-30T01:39:26.821551",
     "status": "completed"
    },
    "tags": []
   },
   "outputs": [
    {
     "data": {
      "text/plain": [
       "array(['Lekki', 'Ajah', 'Oredo', 'Lokogoma District',\n",
       "       'Victoria Island (VI)', 'Katampe', 'Magodo', 'Kaura', 'Galadimawa',\n",
       "       'Gwarinpa', 'Yaba', 'Agege', 'Jahi', 'Orozo', 'Owerri North',\n",
       "       'Ikeja', 'Idu Industrial', 'Owerri Municipal', 'Isheri North',\n",
       "       'Utako', 'Guzape District', 'Port Harcourt', 'Isheri', 'Ibadan',\n",
       "       'Ikoyi', 'Life Camp', 'Dape', 'Ejigbo', 'Isolo', 'Gaduwa', 'Dakwo',\n",
       "       'Asokoro District', 'Chikun', 'Ojodu', 'Lugbe District', 'Wuye',\n",
       "       'Kubwa', 'Shomolu', 'Ogudu', 'Owerri West', 'Sango Ota',\n",
       "       'Surulere', 'Obio-Akpor', 'Enugu', 'Apo', 'Ibeju Lekki', 'Wuse 2',\n",
       "       'Mowe Town', 'Durumi', 'Simawa', 'Arepo', 'Mabushi', 'Alimosho',\n",
       "       'Maryland', 'Karsana', 'Wuse', 'Karmo', 'Ifo', 'Gbagada', 'Idimu',\n",
       "       'Maitama District', 'Gudu', 'Ikotun', 'Kukwaba', 'Mbora (Nbora)',\n",
       "       'Jabi', 'Ikorodu', 'Kaduna South', 'Asaba', 'Uyo', 'Kosofe',\n",
       "       'Ibafo', 'Ilupeju', 'Afijio', 'Ifako-Ijaiye', 'Ado-Ekiti', 'Ipaja',\n",
       "       'Oluyole', 'Osogbo', 'Ketu', 'Kado', 'Ojota', 'Garki',\n",
       "       'Mowe Ofada', 'Karu', 'Eleme', 'Ado-Odo/Ota', 'Ibadan South-West',\n",
       "       'Ojo', 'Oshodi', 'Aba', 'Amuwo Odofin', 'Dekina', 'Dakibiyu',\n",
       "       'Agbara-Igbesa', 'Ijaiye', 'Lagos Island', 'Ijoko',\n",
       "       'Diplomatic Zones', 'Ilorin West', 'Abeokuta South', 'Akure',\n",
       "       'Epe', 'Mushin', 'Magboro', 'Oke-Aro', 'Ikot Ekpene', 'Ayobo',\n",
       "       'Kurudu', 'Kabusa', 'Kafe', 'Egbe', 'Udu', 'Ibadan North-East',\n",
       "       'Gwagwalada', 'Warri', 'Duboyi', 'Central Business District',\n",
       "       'Guzamala', 'Ibadan North', 'Wumba', 'Ibadan North-West',\n",
       "       'Akinyele', 'Kaduna North', 'Mpape', 'Keffi', 'Badagry',\n",
       "       'Ilorin East', 'Umuahia', 'Ijesha', 'Apapa', 'Yenagoa', 'Okene',\n",
       "       'Egor', 'Ughelli South', 'Abeokuta North', 'Ewekoro', 'Kuje',\n",
       "       'Uhunmwonde', 'Ijebu Ode', 'Bwari', 'Abraka', 'Paikoro', 'Ido'],\n",
       "      dtype=object)"
      ]
     },
     "execution_count": 11,
     "metadata": {},
     "output_type": "execute_result"
    }
   ],
   "source": [
    "trimmed_data['town'].unique()"
   ]
  },
  {
   "cell_type": "code",
   "execution_count": 12,
   "id": "8b78ffa7",
   "metadata": {
    "execution": {
     "iopub.execute_input": "2023-08-30T01:39:26.903972Z",
     "iopub.status.busy": "2023-08-30T01:39:26.903366Z",
     "iopub.status.idle": "2023-08-30T01:39:26.915297Z",
     "shell.execute_reply": "2023-08-30T01:39:26.914044Z"
    },
    "papermill": {
     "duration": 0.039761,
     "end_time": "2023-08-30T01:39:26.918007",
     "exception": false,
     "start_time": "2023-08-30T01:39:26.878246",
     "status": "completed"
    },
    "tags": []
   },
   "outputs": [
    {
     "data": {
      "text/plain": [
       "Lagos        13805\n",
       "Abuja         2462\n",
       "Rivers         339\n",
       "Oyo            229\n",
       "Imo            195\n",
       "Ogun           141\n",
       "Enugu           96\n",
       "Anambara        83\n",
       "Edo             51\n",
       "Delta           42\n",
       "Akwa Ibom       13\n",
       "Kaduna           8\n",
       "Ekiti            5\n",
       "Abia             5\n",
       "Kogi             4\n",
       "Nasarawa         4\n",
       "Osun             3\n",
       "Kwara            2\n",
       "Borno            2\n",
       "Bayelsa          1\n",
       "Niger            1\n",
       "Name: state, dtype: int64"
      ]
     },
     "execution_count": 12,
     "metadata": {},
     "output_type": "execute_result"
    }
   ],
   "source": [
    "records = trimmed_data['state'].value_counts()\n",
    "records"
   ]
  },
  {
   "cell_type": "code",
   "execution_count": 13,
   "id": "078f0490",
   "metadata": {
    "execution": {
     "iopub.execute_input": "2023-08-30T01:39:26.964988Z",
     "iopub.status.busy": "2023-08-30T01:39:26.964364Z",
     "iopub.status.idle": "2023-08-30T01:39:26.971780Z",
     "shell.execute_reply": "2023-08-30T01:39:26.970915Z"
    },
    "papermill": {
     "duration": 0.034507,
     "end_time": "2023-08-30T01:39:26.974629",
     "exception": false,
     "start_time": "2023-08-30T01:39:26.940122",
     "status": "completed"
    },
    "tags": []
   },
   "outputs": [],
   "source": [
    "# remove the states with few entries\n",
    "trimmed_data = trimmed_data[~trimmed_data['state'].isin(records[records < 100].index)]\n"
   ]
  },
  {
   "cell_type": "code",
   "execution_count": 14,
   "id": "c66c4316",
   "metadata": {
    "execution": {
     "iopub.execute_input": "2023-08-30T01:39:27.022853Z",
     "iopub.status.busy": "2023-08-30T01:39:27.022214Z",
     "iopub.status.idle": "2023-08-30T01:39:27.032991Z",
     "shell.execute_reply": "2023-08-30T01:39:27.032117Z"
    },
    "papermill": {
     "duration": 0.037757,
     "end_time": "2023-08-30T01:39:27.035360",
     "exception": false,
     "start_time": "2023-08-30T01:39:26.997603",
     "status": "completed"
    },
    "tags": []
   },
   "outputs": [
    {
     "data": {
      "text/plain": [
       "Lagos     13805\n",
       "Abuja      2462\n",
       "Rivers      339\n",
       "Oyo         229\n",
       "Imo         195\n",
       "Ogun        141\n",
       "Name: state, dtype: int64"
      ]
     },
     "execution_count": 14,
     "metadata": {},
     "output_type": "execute_result"
    }
   ],
   "source": [
    "trimmed_data['state'].value_counts()"
   ]
  },
  {
   "cell_type": "markdown",
   "id": "85300a7f",
   "metadata": {
    "papermill": {
     "duration": 0.021645,
     "end_time": "2023-08-30T01:39:27.079220",
     "exception": false,
     "start_time": "2023-08-30T01:39:27.057575",
     "status": "completed"
    },
    "tags": []
   },
   "source": [
    "SO, we ended up reducing the entries of the dataset "
   ]
  },
  {
   "cell_type": "code",
   "execution_count": 15,
   "id": "10f70378",
   "metadata": {
    "execution": {
     "iopub.execute_input": "2023-08-30T01:39:27.125392Z",
     "iopub.status.busy": "2023-08-30T01:39:27.124735Z",
     "iopub.status.idle": "2023-08-30T01:39:27.634600Z",
     "shell.execute_reply": "2023-08-30T01:39:27.633442Z"
    },
    "papermill": {
     "duration": 0.536371,
     "end_time": "2023-08-30T01:39:27.637454",
     "exception": false,
     "start_time": "2023-08-30T01:39:27.101083",
     "status": "completed"
    },
    "tags": []
   },
   "outputs": [
    {
     "data": {
      "text/plain": [
       "<Axes: title={'center': 'Most Expensive towns in nigeria'}, xlabel='town'>"
      ]
     },
     "execution_count": 15,
     "metadata": {},
     "output_type": "execute_result"
    },
    {
     "data": {
      "image/png": "[encoded data removed]",
      "text/plain": [
       "<Figure size 640x480 with 1 Axes>"
      ]
     },
     "metadata": {},
     "output_type": "display_data"
    }
   ],
   "source": [
    "# checking the chart again\n",
    "trimmed_data.groupby('town')['price'].mean().sort_values(ascending=False).head(20).plot(kind='bar', title=\"Most Expensive towns in nigeria\")"
   ]
  },
  {
   "cell_type": "markdown",
   "id": "b4891892",
   "metadata": {
    "papermill": {
     "duration": 0.021373,
     "end_time": "2023-08-30T01:39:27.680556",
     "exception": false,
     "start_time": "2023-08-30T01:39:27.659183",
     "status": "completed"
    },
    "tags": []
   },
   "source": [
    "As you can see, the average looks more stabilized "
   ]
  },
  {
   "cell_type": "code",
   "execution_count": 16,
   "id": "bc86ad7c",
   "metadata": {
    "execution": {
     "iopub.execute_input": "2023-08-30T01:39:27.728154Z",
     "iopub.status.busy": "2023-08-30T01:39:27.727531Z",
     "iopub.status.idle": "2023-08-30T01:39:27.751543Z",
     "shell.execute_reply": "2023-08-30T01:39:27.750171Z"
    },
    "papermill": {
     "duration": 0.051786,
     "end_time": "2023-08-30T01:39:27.754293",
     "exception": false,
     "start_time": "2023-08-30T01:39:27.702507",
     "status": "completed"
    },
    "tags": []
   },
   "outputs": [
    {
     "data": {
      "text/html": [
       "<div>\n",
       "<style scoped>\n",
       "    .dataframe tbody tr th:only-of-type {\n",
       "        vertical-align: middle;\n",
       "    }\n",
       "\n",
       "    .dataframe tbody tr th {\n",
       "        vertical-align: top;\n",
       "    }\n",
       "\n",
       "    .dataframe thead th {\n",
       "        text-align: right;\n",
       "    }\n",
       "</style>\n",
       "<table border=\"1\" class=\"dataframe\">\n",
       "  <thead>\n",
       "    <tr style=\"text-align: right;\">\n",
       "      <th></th>\n",
       "      <th>bedrooms</th>\n",
       "      <th>bathrooms</th>\n",
       "      <th>toilets</th>\n",
       "      <th>parking_space</th>\n",
       "      <th>title</th>\n",
       "      <th>town</th>\n",
       "      <th>state</th>\n",
       "      <th>price</th>\n",
       "    </tr>\n",
       "  </thead>\n",
       "  <tbody>\n",
       "    <tr>\n",
       "      <th>2</th>\n",
       "      <td>4.0</td>\n",
       "      <td>5.0</td>\n",
       "      <td>5.0</td>\n",
       "      <td>4.0</td>\n",
       "      <td>Detached Duplex</td>\n",
       "      <td>Lekki</td>\n",
       "      <td>Lagos</td>\n",
       "      <td>120000000.0</td>\n",
       "    </tr>\n",
       "    <tr>\n",
       "      <th>3</th>\n",
       "      <td>4.0</td>\n",
       "      <td>4.0</td>\n",
       "      <td>5.0</td>\n",
       "      <td>6.0</td>\n",
       "      <td>Detached Duplex</td>\n",
       "      <td>Ajah</td>\n",
       "      <td>Lagos</td>\n",
       "      <td>40000000.0</td>\n",
       "    </tr>\n",
       "    <tr>\n",
       "      <th>4</th>\n",
       "      <td>4.0</td>\n",
       "      <td>4.0</td>\n",
       "      <td>5.0</td>\n",
       "      <td>2.0</td>\n",
       "      <td>Semi Detached Duplex</td>\n",
       "      <td>Lekki</td>\n",
       "      <td>Lagos</td>\n",
       "      <td>75000000.0</td>\n",
       "    </tr>\n",
       "    <tr>\n",
       "      <th>6</th>\n",
       "      <td>4.0</td>\n",
       "      <td>5.0</td>\n",
       "      <td>5.0</td>\n",
       "      <td>4.0</td>\n",
       "      <td>Detached Duplex</td>\n",
       "      <td>Lekki</td>\n",
       "      <td>Lagos</td>\n",
       "      <td>65000000.0</td>\n",
       "    </tr>\n",
       "    <tr>\n",
       "      <th>8</th>\n",
       "      <td>1.0</td>\n",
       "      <td>1.0</td>\n",
       "      <td>1.0</td>\n",
       "      <td>1.0</td>\n",
       "      <td>Detached Duplex</td>\n",
       "      <td>Lekki</td>\n",
       "      <td>Lagos</td>\n",
       "      <td>200000000.0</td>\n",
       "    </tr>\n",
       "    <tr>\n",
       "      <th>...</th>\n",
       "      <td>...</td>\n",
       "      <td>...</td>\n",
       "      <td>...</td>\n",
       "      <td>...</td>\n",
       "      <td>...</td>\n",
       "      <td>...</td>\n",
       "      <td>...</td>\n",
       "      <td>...</td>\n",
       "    </tr>\n",
       "    <tr>\n",
       "      <th>24318</th>\n",
       "      <td>4.0</td>\n",
       "      <td>5.0</td>\n",
       "      <td>5.0</td>\n",
       "      <td>4.0</td>\n",
       "      <td>Semi Detached Duplex</td>\n",
       "      <td>Lekki</td>\n",
       "      <td>Lagos</td>\n",
       "      <td>110000000.0</td>\n",
       "    </tr>\n",
       "    <tr>\n",
       "      <th>24320</th>\n",
       "      <td>3.0</td>\n",
       "      <td>4.0</td>\n",
       "      <td>4.0</td>\n",
       "      <td>5.0</td>\n",
       "      <td>Detached Duplex</td>\n",
       "      <td>Lekki</td>\n",
       "      <td>Lagos</td>\n",
       "      <td>80000000.0</td>\n",
       "    </tr>\n",
       "    <tr>\n",
       "      <th>24323</th>\n",
       "      <td>4.0</td>\n",
       "      <td>5.0</td>\n",
       "      <td>5.0</td>\n",
       "      <td>4.0</td>\n",
       "      <td>Detached Duplex</td>\n",
       "      <td>Lekki</td>\n",
       "      <td>Lagos</td>\n",
       "      <td>68000000.0</td>\n",
       "    </tr>\n",
       "    <tr>\n",
       "      <th>24324</th>\n",
       "      <td>3.0</td>\n",
       "      <td>4.0</td>\n",
       "      <td>4.0</td>\n",
       "      <td>3.0</td>\n",
       "      <td>Block of Flats</td>\n",
       "      <td>Victoria Island (VI)</td>\n",
       "      <td>Lagos</td>\n",
       "      <td>78000000.0</td>\n",
       "    </tr>\n",
       "    <tr>\n",
       "      <th>24325</th>\n",
       "      <td>4.0</td>\n",
       "      <td>5.0</td>\n",
       "      <td>5.0</td>\n",
       "      <td>4.0</td>\n",
       "      <td>Detached Duplex</td>\n",
       "      <td>Lekki</td>\n",
       "      <td>Lagos</td>\n",
       "      <td>65000000.0</td>\n",
       "    </tr>\n",
       "  </tbody>\n",
       "</table>\n",
       "<p>17171 rows × 8 columns</p>\n",
       "</div>"
      ],
      "text/plain": [
       "       bedrooms  bathrooms  toilets  parking_space                 title  \\\n",
       "2           4.0        5.0      5.0            4.0       Detached Duplex   \n",
       "3           4.0        4.0      5.0            6.0       Detached Duplex   \n",
       "4           4.0        4.0      5.0            2.0  Semi Detached Duplex   \n",
       "6           4.0        5.0      5.0            4.0       Detached Duplex   \n",
       "8           1.0        1.0      1.0            1.0       Detached Duplex   \n",
       "...         ...        ...      ...            ...                   ...   \n",
       "24318       4.0        5.0      5.0            4.0  Semi Detached Duplex   \n",
       "24320       3.0        4.0      4.0            5.0       Detached Duplex   \n",
       "24323       4.0        5.0      5.0            4.0       Detached Duplex   \n",
       "24324       3.0        4.0      4.0            3.0        Block of Flats   \n",
       "24325       4.0        5.0      5.0            4.0       Detached Duplex   \n",
       "\n",
       "                       town  state        price  \n",
       "2                     Lekki  Lagos  120000000.0  \n",
       "3                      Ajah  Lagos   40000000.0  \n",
       "4                     Lekki  Lagos   75000000.0  \n",
       "6                     Lekki  Lagos   65000000.0  \n",
       "8                     Lekki  Lagos  200000000.0  \n",
       "...                     ...    ...          ...  \n",
       "24318                 Lekki  Lagos  110000000.0  \n",
       "24320                 Lekki  Lagos   80000000.0  \n",
       "24323                 Lekki  Lagos   68000000.0  \n",
       "24324  Victoria Island (VI)  Lagos   78000000.0  \n",
       "24325                 Lekki  Lagos   65000000.0  \n",
       "\n",
       "[17171 rows x 8 columns]"
      ]
     },
     "execution_count": 16,
     "metadata": {},
     "output_type": "execute_result"
    }
   ],
   "source": [
    "trimmed_data"
   ]
  },
  {
   "cell_type": "code",
   "execution_count": 17,
   "id": "baf52673",
   "metadata": {
    "execution": {
     "iopub.execute_input": "2023-08-30T01:39:27.803215Z",
     "iopub.status.busy": "2023-08-30T01:39:27.802789Z",
     "iopub.status.idle": "2023-08-30T01:39:27.810785Z",
     "shell.execute_reply": "2023-08-30T01:39:27.809688Z"
    },
    "papermill": {
     "duration": 0.035898,
     "end_time": "2023-08-30T01:39:27.813444",
     "exception": false,
     "start_time": "2023-08-30T01:39:27.777546",
     "status": "completed"
    },
    "tags": []
   },
   "outputs": [],
   "source": [
    "trimmed_data['total_rooms'] = trimmed_data['bedrooms'] + trimmed_data['bathrooms'] + trimmed_data['toilets'] + trimmed_data['parking_space']"
   ]
  },
  {
   "cell_type": "code",
   "execution_count": 18,
   "id": "be8db334",
   "metadata": {
    "execution": {
     "iopub.execute_input": "2023-08-30T01:39:27.863237Z",
     "iopub.status.busy": "2023-08-30T01:39:27.862832Z",
     "iopub.status.idle": "2023-08-30T01:39:27.890762Z",
     "shell.execute_reply": "2023-08-30T01:39:27.888663Z"
    },
    "papermill": {
     "duration": 0.057261,
     "end_time": "2023-08-30T01:39:27.894501",
     "exception": false,
     "start_time": "2023-08-30T01:39:27.837240",
     "status": "completed"
    },
    "tags": []
   },
   "outputs": [
    {
     "data": {
      "text/html": [
       "<div>\n",
       "<style scoped>\n",
       "    .dataframe tbody tr th:only-of-type {\n",
       "        vertical-align: middle;\n",
       "    }\n",
       "\n",
       "    .dataframe tbody tr th {\n",
       "        vertical-align: top;\n",
       "    }\n",
       "\n",
       "    .dataframe thead th {\n",
       "        text-align: right;\n",
       "    }\n",
       "</style>\n",
       "<table border=\"1\" class=\"dataframe\">\n",
       "  <thead>\n",
       "    <tr style=\"text-align: right;\">\n",
       "      <th></th>\n",
       "      <th>bedrooms</th>\n",
       "      <th>bathrooms</th>\n",
       "      <th>toilets</th>\n",
       "      <th>parking_space</th>\n",
       "      <th>title</th>\n",
       "      <th>town</th>\n",
       "      <th>state</th>\n",
       "      <th>price</th>\n",
       "      <th>total_rooms</th>\n",
       "    </tr>\n",
       "  </thead>\n",
       "  <tbody>\n",
       "    <tr>\n",
       "      <th>2</th>\n",
       "      <td>4.0</td>\n",
       "      <td>5.0</td>\n",
       "      <td>5.0</td>\n",
       "      <td>4.0</td>\n",
       "      <td>Detached Duplex</td>\n",
       "      <td>Lekki</td>\n",
       "      <td>Lagos</td>\n",
       "      <td>120000000.0</td>\n",
       "      <td>18.0</td>\n",
       "    </tr>\n",
       "    <tr>\n",
       "      <th>3</th>\n",
       "      <td>4.0</td>\n",
       "      <td>4.0</td>\n",
       "      <td>5.0</td>\n",
       "      <td>6.0</td>\n",
       "      <td>Detached Duplex</td>\n",
       "      <td>Ajah</td>\n",
       "      <td>Lagos</td>\n",
       "      <td>40000000.0</td>\n",
       "      <td>19.0</td>\n",
       "    </tr>\n",
       "    <tr>\n",
       "      <th>4</th>\n",
       "      <td>4.0</td>\n",
       "      <td>4.0</td>\n",
       "      <td>5.0</td>\n",
       "      <td>2.0</td>\n",
       "      <td>Semi Detached Duplex</td>\n",
       "      <td>Lekki</td>\n",
       "      <td>Lagos</td>\n",
       "      <td>75000000.0</td>\n",
       "      <td>15.0</td>\n",
       "    </tr>\n",
       "    <tr>\n",
       "      <th>6</th>\n",
       "      <td>4.0</td>\n",
       "      <td>5.0</td>\n",
       "      <td>5.0</td>\n",
       "      <td>4.0</td>\n",
       "      <td>Detached Duplex</td>\n",
       "      <td>Lekki</td>\n",
       "      <td>Lagos</td>\n",
       "      <td>65000000.0</td>\n",
       "      <td>18.0</td>\n",
       "    </tr>\n",
       "    <tr>\n",
       "      <th>8</th>\n",
       "      <td>1.0</td>\n",
       "      <td>1.0</td>\n",
       "      <td>1.0</td>\n",
       "      <td>1.0</td>\n",
       "      <td>Detached Duplex</td>\n",
       "      <td>Lekki</td>\n",
       "      <td>Lagos</td>\n",
       "      <td>200000000.0</td>\n",
       "      <td>4.0</td>\n",
       "    </tr>\n",
       "    <tr>\n",
       "      <th>...</th>\n",
       "      <td>...</td>\n",
       "      <td>...</td>\n",
       "      <td>...</td>\n",
       "      <td>...</td>\n",
       "      <td>...</td>\n",
       "      <td>...</td>\n",
       "      <td>...</td>\n",
       "      <td>...</td>\n",
       "      <td>...</td>\n",
       "    </tr>\n",
       "    <tr>\n",
       "      <th>24318</th>\n",
       "      <td>4.0</td>\n",
       "      <td>5.0</td>\n",
       "      <td>5.0</td>\n",
       "      <td>4.0</td>\n",
       "      <td>Semi Detached Duplex</td>\n",
       "      <td>Lekki</td>\n",
       "      <td>Lagos</td>\n",
       "      <td>110000000.0</td>\n",
       "      <td>18.0</td>\n",
       "    </tr>\n",
       "    <tr>\n",
       "      <th>24320</th>\n",
       "      <td>3.0</td>\n",
       "      <td>4.0</td>\n",
       "      <td>4.0</td>\n",
       "      <td>5.0</td>\n",
       "      <td>Detached Duplex</td>\n",
       "      <td>Lekki</td>\n",
       "      <td>Lagos</td>\n",
       "      <td>80000000.0</td>\n",
       "      <td>16.0</td>\n",
       "    </tr>\n",
       "    <tr>\n",
       "      <th>24323</th>\n",
       "      <td>4.0</td>\n",
       "      <td>5.0</td>\n",
       "      <td>5.0</td>\n",
       "      <td>4.0</td>\n",
       "      <td>Detached Duplex</td>\n",
       "      <td>Lekki</td>\n",
       "      <td>Lagos</td>\n",
       "      <td>68000000.0</td>\n",
       "      <td>18.0</td>\n",
       "    </tr>\n",
       "    <tr>\n",
       "      <th>24324</th>\n",
       "      <td>3.0</td>\n",
       "      <td>4.0</td>\n",
       "      <td>4.0</td>\n",
       "      <td>3.0</td>\n",
       "      <td>Block of Flats</td>\n",
       "      <td>Victoria Island (VI)</td>\n",
       "      <td>Lagos</td>\n",
       "      <td>78000000.0</td>\n",
       "      <td>14.0</td>\n",
       "    </tr>\n",
       "    <tr>\n",
       "      <th>24325</th>\n",
       "      <td>4.0</td>\n",
       "      <td>5.0</td>\n",
       "      <td>5.0</td>\n",
       "      <td>4.0</td>\n",
       "      <td>Detached Duplex</td>\n",
       "      <td>Lekki</td>\n",
       "      <td>Lagos</td>\n",
       "      <td>65000000.0</td>\n",
       "      <td>18.0</td>\n",
       "    </tr>\n",
       "  </tbody>\n",
       "</table>\n",
       "<p>17171 rows × 9 columns</p>\n",
       "</div>"
      ],
      "text/plain": [
       "       bedrooms  bathrooms  toilets  parking_space                 title  \\\n",
       "2           4.0        5.0      5.0            4.0       Detached Duplex   \n",
       "3           4.0        4.0      5.0            6.0       Detached Duplex   \n",
       "4           4.0        4.0      5.0            2.0  Semi Detached Duplex   \n",
       "6           4.0        5.0      5.0            4.0       Detached Duplex   \n",
       "8           1.0        1.0      1.0            1.0       Detached Duplex   \n",
       "...         ...        ...      ...            ...                   ...   \n",
       "24318       4.0        5.0      5.0            4.0  Semi Detached Duplex   \n",
       "24320       3.0        4.0      4.0            5.0       Detached Duplex   \n",
       "24323       4.0        5.0      5.0            4.0       Detached Duplex   \n",
       "24324       3.0        4.0      4.0            3.0        Block of Flats   \n",
       "24325       4.0        5.0      5.0            4.0       Detached Duplex   \n",
       "\n",
       "                       town  state        price  total_rooms  \n",
       "2                     Lekki  Lagos  120000000.0         18.0  \n",
       "3                      Ajah  Lagos   40000000.0         19.0  \n",
       "4                     Lekki  Lagos   75000000.0         15.0  \n",
       "6                     Lekki  Lagos   65000000.0         18.0  \n",
       "8                     Lekki  Lagos  200000000.0          4.0  \n",
       "...                     ...    ...          ...          ...  \n",
       "24318                 Lekki  Lagos  110000000.0         18.0  \n",
       "24320                 Lekki  Lagos   80000000.0         16.0  \n",
       "24323                 Lekki  Lagos   68000000.0         18.0  \n",
       "24324  Victoria Island (VI)  Lagos   78000000.0         14.0  \n",
       "24325                 Lekki  Lagos   65000000.0         18.0  \n",
       "\n",
       "[17171 rows x 9 columns]"
      ]
     },
     "execution_count": 18,
     "metadata": {},
     "output_type": "execute_result"
    }
   ],
   "source": [
    "trimmed_data"
   ]
  },
  {
   "cell_type": "code",
   "execution_count": 19,
   "id": "7990ddb2",
   "metadata": {
    "execution": {
     "iopub.execute_input": "2023-08-30T01:39:27.943950Z",
     "iopub.status.busy": "2023-08-30T01:39:27.943503Z",
     "iopub.status.idle": "2023-08-30T01:39:28.457070Z",
     "shell.execute_reply": "2023-08-30T01:39:28.455483Z"
    },
    "papermill": {
     "duration": 0.541906,
     "end_time": "2023-08-30T01:39:28.460116",
     "exception": false,
     "start_time": "2023-08-30T01:39:27.918210",
     "status": "completed"
    },
    "tags": []
   },
   "outputs": [
    {
     "data": {
      "text/plain": [
       "<Axes: >"
      ]
     },
     "execution_count": 19,
     "metadata": {},
     "output_type": "execute_result"
    },
    {
     "data": {
      "image/png": "[encoded data removed]",
      "text/plain": [
       "<Figure size 640x480 with 2 Axes>"
      ]
     },
     "metadata": {},
     "output_type": "display_data"
    }
   ],
   "source": [
    "corr = trimmed_data.corr()\n",
    "sns.heatmap(corr, annot=True)"
   ]
  },
  {
   "cell_type": "code",
   "execution_count": 20,
   "id": "d85aa24c",
   "metadata": {
    "execution": {
     "iopub.execute_input": "2023-08-30T01:39:28.514816Z",
     "iopub.status.busy": "2023-08-30T01:39:28.514418Z",
     "iopub.status.idle": "2023-08-30T01:39:28.524743Z",
     "shell.execute_reply": "2023-08-30T01:39:28.523351Z"
    },
    "papermill": {
     "duration": 0.040936,
     "end_time": "2023-08-30T01:39:28.527215",
     "exception": false,
     "start_time": "2023-08-30T01:39:28.486279",
     "status": "completed"
    },
    "tags": []
   },
   "outputs": [
    {
     "name": "stdout",
     "output_type": "stream",
     "text": [
      "               bedrooms  bathrooms   toilets  parking_space     price  \\\n",
      "bedrooms       1.000000   0.739923  0.571015       0.145919  0.356347   \n",
      "bathrooms      0.739923   1.000000  0.642284       0.161377  0.276956   \n",
      "toilets        0.571015   0.642284  1.000000       0.234386  0.313762   \n",
      "parking_space  0.145919   0.161377  0.234386       1.000000  0.140579   \n",
      "price          0.356347   0.276956  0.313762       0.140579  1.000000   \n",
      "total_rooms    0.779405   0.813967  0.797351       0.593667  0.355218   \n",
      "\n",
      "               total_rooms  \n",
      "bedrooms          0.779405  \n",
      "bathrooms         0.813967  \n",
      "toilets           0.797351  \n",
      "parking_space     0.593667  \n",
      "price             0.355218  \n",
      "total_rooms       1.000000  \n"
     ]
    }
   ],
   "source": [
    "print(corr)"
   ]
  },
  {
   "cell_type": "code",
   "execution_count": 21,
   "id": "13ee93ae",
   "metadata": {
    "execution": {
     "iopub.execute_input": "2023-08-30T01:39:28.580342Z",
     "iopub.status.busy": "2023-08-30T01:39:28.579874Z",
     "iopub.status.idle": "2023-08-30T01:39:28.588565Z",
     "shell.execute_reply": "2023-08-30T01:39:28.587339Z"
    },
    "papermill": {
     "duration": 0.038589,
     "end_time": "2023-08-30T01:39:28.591598",
     "exception": false,
     "start_time": "2023-08-30T01:39:28.553009",
     "status": "completed"
    },
    "tags": []
   },
   "outputs": [],
   "source": [
    "trimmed_data.drop(columns=['parking_space', 'title', 'town', 'state'], inplace = True)"
   ]
  },
  {
   "cell_type": "code",
   "execution_count": 22,
   "id": "7d29df70",
   "metadata": {
    "execution": {
     "iopub.execute_input": "2023-08-30T01:39:28.644437Z",
     "iopub.status.busy": "2023-08-30T01:39:28.643937Z",
     "iopub.status.idle": "2023-08-30T01:39:28.656216Z",
     "shell.execute_reply": "2023-08-30T01:39:28.655048Z"
    },
    "papermill": {
     "duration": 0.042208,
     "end_time": "2023-08-30T01:39:28.659170",
     "exception": false,
     "start_time": "2023-08-30T01:39:28.616962",
     "status": "completed"
    },
    "tags": []
   },
   "outputs": [],
   "source": [
    "# removing outliers\n",
    "trim = q1, q9 = trimmed_data[\"price\"].quantile([0.1, 0.9])\n",
    "mask = trimmed_data[\"price\"].between(q1,q9)\n",
    "trimmed_data = trimmed_data[mask]"
   ]
  },
  {
   "cell_type": "code",
   "execution_count": 23,
   "id": "a7a1631b",
   "metadata": {
    "execution": {
     "iopub.execute_input": "2023-08-30T01:39:28.711841Z",
     "iopub.status.busy": "2023-08-30T01:39:28.711380Z",
     "iopub.status.idle": "2023-08-30T01:39:28.735124Z",
     "shell.execute_reply": "2023-08-30T01:39:28.733616Z"
    },
    "papermill": {
     "duration": 0.052982,
     "end_time": "2023-08-30T01:39:28.737768",
     "exception": false,
     "start_time": "2023-08-30T01:39:28.684786",
     "status": "completed"
    },
    "tags": []
   },
   "outputs": [
    {
     "data": {
      "text/html": [
       "<div>\n",
       "<style scoped>\n",
       "    .dataframe tbody tr th:only-of-type {\n",
       "        vertical-align: middle;\n",
       "    }\n",
       "\n",
       "    .dataframe tbody tr th {\n",
       "        vertical-align: top;\n",
       "    }\n",
       "\n",
       "    .dataframe thead th {\n",
       "        text-align: right;\n",
       "    }\n",
       "</style>\n",
       "<table border=\"1\" class=\"dataframe\">\n",
       "  <thead>\n",
       "    <tr style=\"text-align: right;\">\n",
       "      <th></th>\n",
       "      <th>bedrooms</th>\n",
       "      <th>bathrooms</th>\n",
       "      <th>toilets</th>\n",
       "      <th>price</th>\n",
       "      <th>total_rooms</th>\n",
       "    </tr>\n",
       "  </thead>\n",
       "  <tbody>\n",
       "    <tr>\n",
       "      <th>2</th>\n",
       "      <td>4.0</td>\n",
       "      <td>5.0</td>\n",
       "      <td>5.0</td>\n",
       "      <td>120000000.0</td>\n",
       "      <td>18.0</td>\n",
       "    </tr>\n",
       "    <tr>\n",
       "      <th>4</th>\n",
       "      <td>4.0</td>\n",
       "      <td>4.0</td>\n",
       "      <td>5.0</td>\n",
       "      <td>75000000.0</td>\n",
       "      <td>15.0</td>\n",
       "    </tr>\n",
       "    <tr>\n",
       "      <th>6</th>\n",
       "      <td>4.0</td>\n",
       "      <td>5.0</td>\n",
       "      <td>5.0</td>\n",
       "      <td>65000000.0</td>\n",
       "      <td>18.0</td>\n",
       "    </tr>\n",
       "    <tr>\n",
       "      <th>9</th>\n",
       "      <td>4.0</td>\n",
       "      <td>4.0</td>\n",
       "      <td>5.0</td>\n",
       "      <td>60000000.0</td>\n",
       "      <td>18.0</td>\n",
       "    </tr>\n",
       "    <tr>\n",
       "      <th>12</th>\n",
       "      <td>4.0</td>\n",
       "      <td>5.0</td>\n",
       "      <td>6.0</td>\n",
       "      <td>65000000.0</td>\n",
       "      <td>18.0</td>\n",
       "    </tr>\n",
       "    <tr>\n",
       "      <th>...</th>\n",
       "      <td>...</td>\n",
       "      <td>...</td>\n",
       "      <td>...</td>\n",
       "      <td>...</td>\n",
       "      <td>...</td>\n",
       "    </tr>\n",
       "    <tr>\n",
       "      <th>24318</th>\n",
       "      <td>4.0</td>\n",
       "      <td>5.0</td>\n",
       "      <td>5.0</td>\n",
       "      <td>110000000.0</td>\n",
       "      <td>18.0</td>\n",
       "    </tr>\n",
       "    <tr>\n",
       "      <th>24320</th>\n",
       "      <td>3.0</td>\n",
       "      <td>4.0</td>\n",
       "      <td>4.0</td>\n",
       "      <td>80000000.0</td>\n",
       "      <td>16.0</td>\n",
       "    </tr>\n",
       "    <tr>\n",
       "      <th>24323</th>\n",
       "      <td>4.0</td>\n",
       "      <td>5.0</td>\n",
       "      <td>5.0</td>\n",
       "      <td>68000000.0</td>\n",
       "      <td>18.0</td>\n",
       "    </tr>\n",
       "    <tr>\n",
       "      <th>24324</th>\n",
       "      <td>3.0</td>\n",
       "      <td>4.0</td>\n",
       "      <td>4.0</td>\n",
       "      <td>78000000.0</td>\n",
       "      <td>14.0</td>\n",
       "    </tr>\n",
       "    <tr>\n",
       "      <th>24325</th>\n",
       "      <td>4.0</td>\n",
       "      <td>5.0</td>\n",
       "      <td>5.0</td>\n",
       "      <td>65000000.0</td>\n",
       "      <td>18.0</td>\n",
       "    </tr>\n",
       "  </tbody>\n",
       "</table>\n",
       "<p>14178 rows × 5 columns</p>\n",
       "</div>"
      ],
      "text/plain": [
       "       bedrooms  bathrooms  toilets        price  total_rooms\n",
       "2           4.0        5.0      5.0  120000000.0         18.0\n",
       "4           4.0        4.0      5.0   75000000.0         15.0\n",
       "6           4.0        5.0      5.0   65000000.0         18.0\n",
       "9           4.0        4.0      5.0   60000000.0         18.0\n",
       "12          4.0        5.0      6.0   65000000.0         18.0\n",
       "...         ...        ...      ...          ...          ...\n",
       "24318       4.0        5.0      5.0  110000000.0         18.0\n",
       "24320       3.0        4.0      4.0   80000000.0         16.0\n",
       "24323       4.0        5.0      5.0   68000000.0         18.0\n",
       "24324       3.0        4.0      4.0   78000000.0         14.0\n",
       "24325       4.0        5.0      5.0   65000000.0         18.0\n",
       "\n",
       "[14178 rows x 5 columns]"
      ]
     },
     "execution_count": 23,
     "metadata": {},
     "output_type": "execute_result"
    }
   ],
   "source": [
    "trimmed_data"
   ]
  },
  {
   "cell_type": "code",
   "execution_count": 24,
   "id": "42196b28",
   "metadata": {
    "execution": {
     "iopub.execute_input": "2023-08-30T01:39:28.790815Z",
     "iopub.status.busy": "2023-08-30T01:39:28.790341Z",
     "iopub.status.idle": "2023-08-30T01:39:28.804597Z",
     "shell.execute_reply": "2023-08-30T01:39:28.803217Z"
    },
    "papermill": {
     "duration": 0.044836,
     "end_time": "2023-08-30T01:39:28.807528",
     "exception": false,
     "start_time": "2023-08-30T01:39:28.762692",
     "status": "completed"
    },
    "tags": []
   },
   "outputs": [
    {
     "name": "stdout",
     "output_type": "stream",
     "text": [
      "<class 'pandas.core.frame.DataFrame'>\n",
      "Int64Index: 14178 entries, 2 to 24325\n",
      "Data columns (total 5 columns):\n",
      " #   Column       Non-Null Count  Dtype  \n",
      "---  ------       --------------  -----  \n",
      " 0   bedrooms     14178 non-null  float64\n",
      " 1   bathrooms    14178 non-null  float64\n",
      " 2   toilets      14178 non-null  float64\n",
      " 3   price        14178 non-null  float64\n",
      " 4   total_rooms  14178 non-null  float64\n",
      "dtypes: float64(5)\n",
      "memory usage: 664.6 KB\n"
     ]
    }
   ],
   "source": [
    "trimmed_data.info()"
   ]
  },
  {
   "cell_type": "markdown",
   "id": "09153e96",
   "metadata": {
    "papermill": {
     "duration": 0.025676,
     "end_time": "2023-08-30T01:39:28.858502",
     "exception": false,
     "start_time": "2023-08-30T01:39:28.832826",
     "status": "completed"
    },
    "tags": []
   },
   "source": [
    "## Model Building and Selection"
   ]
  },
  {
   "cell_type": "code",
   "execution_count": 25,
   "id": "85685587",
   "metadata": {
    "execution": {
     "iopub.execute_input": "2023-08-30T01:39:28.915190Z",
     "iopub.status.busy": "2023-08-30T01:39:28.914742Z",
     "iopub.status.idle": "2023-08-30T01:39:38.116942Z",
     "shell.execute_reply": "2023-08-30T01:39:38.115681Z"
    },
    "papermill": {
     "duration": 9.235195,
     "end_time": "2023-08-30T01:39:38.119730",
     "exception": false,
     "start_time": "2023-08-30T01:39:28.884535",
     "status": "completed"
    },
    "tags": []
   },
   "outputs": [
    {
     "name": "stdout",
     "output_type": "stream",
     "text": [
      "Linear Regression: \n",
      "  Mean Squared Error: 1174364955823664.7500\n",
      "  R2 Score: 0.1415\n",
      "Ridge Regression: \n",
      "  Mean Squared Error: 1174371154239986.0000\n",
      "  R2 Score: 0.1415\n",
      "Lasso Regression: \n",
      "  Mean Squared Error: 1174364965678561.7500\n",
      "  R2 Score: 0.1415\n",
      "Elastic Net Regression: \n",
      "  Mean Squared Error: 1196502860888261.7500\n",
      "  R2 Score: 0.1253\n",
      "Decision Tree Regression: \n",
      "  Mean Squared Error: 1129927796887330.0000\n",
      "  R2 Score: 0.1740\n",
      "Random Forest Regression: \n",
      "  Mean Squared Error: 1102270703649256.1250\n",
      "  R2 Score: 0.1942\n",
      "Gradient Boosting Regression: \n",
      "  Mean Squared Error: 1069398605466245.2500\n",
      "  R2 Score: 0.2183\n",
      "SVR: \n",
      "  Mean Squared Error: 1479372524500508.5000\n",
      "  R2 Score: -0.0814\n",
      "KNN Regression: \n",
      "  Mean Squared Error: 1339389241989733.0000\n",
      "  R2 Score: 0.0209\n"
     ]
    }
   ],
   "source": [
    "X = trimmed_data.drop('price', axis = 1)\n",
    "y = trimmed_data['price']\n",
    "\n",
    "X_train, X_test, y_train, y_test = train_test_split(X, y, test_size = 0.2, random_state = 42)\n",
    "\n",
    "models = {\n",
    "    'Linear Regression': LinearRegression(),\n",
    "    'Ridge Regression': Ridge(),\n",
    "    'Lasso Regression': Lasso(),\n",
    "    'Elastic Net Regression': ElasticNet(),\n",
    "    'Decision Tree Regression': DecisionTreeRegressor(),\n",
    "    'Random Forest Regression': RandomForestRegressor(),\n",
    "    'Gradient Boosting Regression': GradientBoostingRegressor(),\n",
    "    'SVR': SVR(),\n",
    "    'KNN Regression': KNeighborsRegressor()\n",
    "}\n",
    "\n",
    "for name, model in models.items():\n",
    "    model.fit(X_train, y_train)\n",
    "    y_pred = model.predict(X_test)\n",
    "    mse = mean_squared_error(y_test, y_pred)\n",
    "    r2 = r2_score(y_test, y_pred)\n",
    "    print(f\"{name}: \")\n",
    "    print(f\"  Mean Squared Error: {mse:.4f}\")\n",
    "    print(f\"  R2 Score: {r2:.4f}\")\n"
   ]
  },
  {
   "cell_type": "code",
   "execution_count": 26,
   "id": "ff8e2586",
   "metadata": {
    "execution": {
     "iopub.execute_input": "2023-08-30T01:39:38.174059Z",
     "iopub.status.busy": "2023-08-30T01:39:38.173541Z",
     "iopub.status.idle": "2023-08-30T01:39:38.184081Z",
     "shell.execute_reply": "2023-08-30T01:39:38.182093Z"
    },
    "papermill": {
     "duration": 0.04126,
     "end_time": "2023-08-30T01:39:38.186993",
     "exception": false,
     "start_time": "2023-08-30T01:39:38.145733",
     "status": "completed"
    },
    "tags": []
   },
   "outputs": [
    {
     "name": "stdout",
     "output_type": "stream",
     "text": [
      "Mean price: 94950130.76697232\n",
      "Baseline MSE: 1342225635426989.5\n"
     ]
    }
   ],
   "source": [
    "y_mean = y_train.mean()\n",
    "y_pred_baseline = [y_mean]*len(y_train)\n",
    "print(\"Mean price:\", y_mean)\n",
    "print(\"Baseline MSE:\", mean_squared_error(y_train, y_pred_baseline))"
   ]
  },
  {
   "cell_type": "markdown",
   "id": "c5ae43bb",
   "metadata": {
    "papermill": {
     "duration": 0.026413,
     "end_time": "2023-08-30T01:39:38.242956",
     "exception": false,
     "start_time": "2023-08-30T01:39:38.216543",
     "status": "completed"
    },
    "tags": []
   },
   "source": [
    "The best model here is Gradient Boosting Regressor which has the lowest MSE, this means that it is making predictions that are closer to the actual values on average compared to other models, and it has the highest R2 score which means that it is explaining the variance in the data better than other models "
   ]
  },
  {
   "cell_type": "markdown",
   "id": "3d7543cd",
   "metadata": {
    "papermill": {
     "duration": 0.026303,
     "end_time": "2023-08-30T01:39:38.295454",
     "exception": false,
     "start_time": "2023-08-30T01:39:38.269151",
     "status": "completed"
    },
    "tags": []
   },
   "source": [
    "### Hyperparameter Tuning"
   ]
  },
  {
   "cell_type": "markdown",
   "id": "9624f3c1",
   "metadata": {
    "papermill": {
     "duration": 0.025459,
     "end_time": "2023-08-30T01:39:38.348176",
     "exception": false,
     "start_time": "2023-08-30T01:39:38.322717",
     "status": "completed"
    },
    "tags": []
   },
   "source": [
    "GridSearchCV"
   ]
  },
  {
   "cell_type": "code",
   "execution_count": 27,
   "id": "4f71495b",
   "metadata": {
    "execution": {
     "iopub.execute_input": "2023-08-30T01:39:38.403305Z",
     "iopub.status.busy": "2023-08-30T01:39:38.402893Z",
     "iopub.status.idle": "2023-08-30T01:42:49.391106Z",
     "shell.execute_reply": "2023-08-30T01:42:49.389567Z"
    },
    "papermill": {
     "duration": 191.044677,
     "end_time": "2023-08-30T01:42:49.419960",
     "exception": false,
     "start_time": "2023-08-30T01:39:38.375283",
     "status": "completed"
    },
    "tags": []
   },
   "outputs": [
    {
     "name": "stderr",
     "output_type": "stream",
     "text": [
      "/opt/conda/lib/python3.10/site-packages/scipy/__init__.py:146: UserWarning: A NumPy version >=1.16.5 and <1.23.0 is required for this version of SciPy (detected version 1.23.5\n",
      "  warnings.warn(f\"A NumPy version >={np_minversion} and <{np_maxversion}\"\n",
      "/opt/conda/lib/python3.10/site-packages/scipy/__init__.py:146: UserWarning: A NumPy version >=1.16.5 and <1.23.0 is required for this version of SciPy (detected version 1.23.5\n",
      "  warnings.warn(f\"A NumPy version >={np_minversion} and <{np_maxversion}\"\n",
      "/opt/conda/lib/python3.10/site-packages/scipy/__init__.py:146: UserWarning: A NumPy version >=1.16.5 and <1.23.0 is required for this version of SciPy (detected version 1.23.5\n",
      "  warnings.warn(f\"A NumPy version >={np_minversion} and <{np_maxversion}\"\n",
      "/opt/conda/lib/python3.10/site-packages/scipy/__init__.py:146: UserWarning: A NumPy version >=1.16.5 and <1.23.0 is required for this version of SciPy (detected version 1.23.5\n",
      "  warnings.warn(f\"A NumPy version >={np_minversion} and <{np_maxversion}\"\n"
     ]
    },
    {
     "data": {
      "text/html": [
       "<style>#sk-container-id-1 {color: black;background-color: white;}#sk-container-id-1 pre{padding: 0;}#sk-container-id-1 div.sk-toggleable {background-color: white;}#sk-container-id-1 label.sk-toggleable__label {cursor: pointer;display: block;width: 100%;margin-bottom: 0;padding: 0.3em;box-sizing: border-box;text-align: center;}#sk-container-id-1 label.sk-toggleable__label-arrow:before {content: \"▸\";float: left;margin-right: 0.25em;color: #696969;}#sk-container-id-1 label.sk-toggleable__label-arrow:hover:before {color: black;}#sk-container-id-1 div.sk-estimator:hover label.sk-toggleable__label-arrow:before {color: black;}#sk-container-id-1 div.sk-toggleable__content {max-height: 0;max-width: 0;overflow: hidden;text-align: left;background-color: #f0f8ff;}#sk-container-id-1 div.sk-toggleable__content pre {margin: 0.2em;color: black;border-radius: 0.25em;background-color: #f0f8ff;}#sk-container-id-1 input.sk-toggleable__control:checked~div.sk-toggleable__content {max-height: 200px;max-width: 100%;overflow: auto;}#sk-container-id-1 input.sk-toggleable__control:checked~label.sk-toggleable__label-arrow:before {content: \"▾\";}#sk-container-id-1 div.sk-estimator input.sk-toggleable__control:checked~label.sk-toggleable__label {background-color: #d4ebff;}#sk-container-id-1 div.sk-label input.sk-toggleable__control:checked~label.sk-toggleable__label {background-color: #d4ebff;}#sk-container-id-1 input.sk-hidden--visually {border: 0;clip: rect(1px 1px 1px 1px);clip: rect(1px, 1px, 1px, 1px);height: 1px;margin: -1px;overflow: hidden;padding: 0;position: absolute;width: 1px;}#sk-container-id-1 div.sk-estimator {font-family: monospace;background-color: #f0f8ff;border: 1px dotted black;border-radius: 0.25em;box-sizing: border-box;margin-bottom: 0.5em;}#sk-container-id-1 div.sk-estimator:hover {background-color: #d4ebff;}#sk-container-id-1 div.sk-parallel-item::after {content: \"\";width: 100%;border-bottom: 1px solid gray;flex-grow: 1;}#sk-container-id-1 div.sk-label:hover label.sk-toggleable__label {background-color: #d4ebff;}#sk-container-id-1 div.sk-serial::before {content: \"\";position: absolute;border-left: 1px solid gray;box-sizing: border-box;top: 0;bottom: 0;left: 50%;z-index: 0;}#sk-container-id-1 div.sk-serial {display: flex;flex-direction: column;align-items: center;background-color: white;padding-right: 0.2em;padding-left: 0.2em;position: relative;}#sk-container-id-1 div.sk-item {position: relative;z-index: 1;}#sk-container-id-1 div.sk-parallel {display: flex;align-items: stretch;justify-content: center;background-color: white;position: relative;}#sk-container-id-1 div.sk-item::before, #sk-container-id-1 div.sk-parallel-item::before {content: \"\";position: absolute;border-left: 1px solid gray;box-sizing: border-box;top: 0;bottom: 0;left: 50%;z-index: -1;}#sk-container-id-1 div.sk-parallel-item {display: flex;flex-direction: column;z-index: 1;position: relative;background-color: white;}#sk-container-id-1 div.sk-parallel-item:first-child::after {align-self: flex-end;width: 50%;}#sk-container-id-1 div.sk-parallel-item:last-child::after {align-self: flex-start;width: 50%;}#sk-container-id-1 div.sk-parallel-item:only-child::after {width: 0;}#sk-container-id-1 div.sk-dashed-wrapped {border: 1px dashed gray;margin: 0 0.4em 0.5em 0.4em;box-sizing: border-box;padding-bottom: 0.4em;background-color: white;}#sk-container-id-1 div.sk-label label {font-family: monospace;font-weight: bold;display: inline-block;line-height: 1.2em;}#sk-container-id-1 div.sk-label-container {text-align: center;}#sk-container-id-1 div.sk-container {/* jupyter's `normalize.less` sets `[hidden] { display: none; }` but bootstrap.min.css set `[hidden] { display: none !important; }` so we also need the `!important` here to be able to override the default hidden behavior on the sphinx rendered scikit-learn.org. See: https://github.com/scikit-learn/scikit-learn/issues/21755 */display: inline-block !important;position: relative;}#sk-container-id-1 div.sk-text-repr-fallback {display: none;}</style><div id=\"sk-container-id-1\" class=\"sk-top-container\"><div class=\"sk-text-repr-fallback\"><pre>GridSearchCV(cv=5, estimator=GradientBoostingRegressor(), n_jobs=-1,\n",
       "             param_grid={&#x27;learning_rate&#x27;: [0.1, 0.2, 0.3],\n",
       "                         &#x27;max_depth&#x27;: [2, 3, 4], &#x27;min_samples_leaf&#x27;: [1, 2, 3],\n",
       "                         &#x27;min_samples_split&#x27;: [2, 3, 4],\n",
       "                         &#x27;n_estimators&#x27;: [150, 100, 200]})</pre><b>In a Jupyter environment, please rerun this cell to show the HTML representation or trust the notebook. <br />On GitHub, the HTML representation is unable to render, please try loading this page with nbviewer.org.</b></div><div class=\"sk-container\" hidden><div class=\"sk-item sk-dashed-wrapped\"><div class=\"sk-label-container\"><div class=\"sk-label sk-toggleable\"><input class=\"sk-toggleable__control sk-hidden--visually\" id=\"sk-estimator-id-1\" type=\"checkbox\" ><label for=\"sk-estimator-id-1\" class=\"sk-toggleable__label sk-toggleable__label-arrow\">GridSearchCV</label><div class=\"sk-toggleable__content\"><pre>GridSearchCV(cv=5, estimator=GradientBoostingRegressor(), n_jobs=-1,\n",
       "             param_grid={&#x27;learning_rate&#x27;: [0.1, 0.2, 0.3],\n",
       "                         &#x27;max_depth&#x27;: [2, 3, 4], &#x27;min_samples_leaf&#x27;: [1, 2, 3],\n",
       "                         &#x27;min_samples_split&#x27;: [2, 3, 4],\n",
       "                         &#x27;n_estimators&#x27;: [150, 100, 200]})</pre></div></div></div><div class=\"sk-parallel\"><div class=\"sk-parallel-item\"><div class=\"sk-item\"><div class=\"sk-label-container\"><div class=\"sk-label sk-toggleable\"><input class=\"sk-toggleable__control sk-hidden--visually\" id=\"sk-estimator-id-2\" type=\"checkbox\" ><label for=\"sk-estimator-id-2\" class=\"sk-toggleable__label sk-toggleable__label-arrow\">estimator: GradientBoostingRegressor</label><div class=\"sk-toggleable__content\"><pre>GradientBoostingRegressor()</pre></div></div></div><div class=\"sk-serial\"><div class=\"sk-item\"><div class=\"sk-estimator sk-toggleable\"><input class=\"sk-toggleable__control sk-hidden--visually\" id=\"sk-estimator-id-3\" type=\"checkbox\" ><label for=\"sk-estimator-id-3\" class=\"sk-toggleable__label sk-toggleable__label-arrow\">GradientBoostingRegressor</label><div class=\"sk-toggleable__content\"><pre>GradientBoostingRegressor()</pre></div></div></div></div></div></div></div></div></div></div>"
      ],
      "text/plain": [
       "GridSearchCV(cv=5, estimator=GradientBoostingRegressor(), n_jobs=-1,\n",
       "             param_grid={'learning_rate': [0.1, 0.2, 0.3],\n",
       "                         'max_depth': [2, 3, 4], 'min_samples_leaf': [1, 2, 3],\n",
       "                         'min_samples_split': [2, 3, 4],\n",
       "                         'n_estimators': [150, 100, 200]})"
      ]
     },
     "execution_count": 27,
     "metadata": {},
     "output_type": "execute_result"
    }
   ],
   "source": [
    "\n",
    "gbr = GradientBoostingRegressor()\n",
    "\n",
    "param_grid = {\n",
    "    'n_estimators': [150, 100, 200],\n",
    "    'learning_rate': [0.1, 0.2, 0.3],\n",
    "    'max_depth': [2, 3, 4],\n",
    "    'min_samples_split' : [2, 3, 4],\n",
    "    'min_samples_leaf' : [1, 2, 3]\n",
    "}\n",
    "\n",
    "grid_search = GridSearchCV(estimator = gbr, param_grid = param_grid, cv = 5, n_jobs = -1)\n",
    "\n",
    "grid_search.fit(X_train, y_train)"
   ]
  },
  {
   "cell_type": "code",
   "execution_count": 28,
   "id": "0c0777e2",
   "metadata": {
    "execution": {
     "iopub.execute_input": "2023-08-30T01:42:49.475157Z",
     "iopub.status.busy": "2023-08-30T01:42:49.474717Z",
     "iopub.status.idle": "2023-08-30T01:42:49.481954Z",
     "shell.execute_reply": "2023-08-30T01:42:49.480574Z"
    },
    "papermill": {
     "duration": 0.038301,
     "end_time": "2023-08-30T01:42:49.484791",
     "exception": false,
     "start_time": "2023-08-30T01:42:49.446490",
     "status": "completed"
    },
    "tags": []
   },
   "outputs": [
    {
     "name": "stdout",
     "output_type": "stream",
     "text": [
      "Best Hyperparameter:  {'learning_rate': 0.1, 'max_depth': 4, 'min_samples_leaf': 3, 'min_samples_split': 4, 'n_estimators': 100}\n"
     ]
    }
   ],
   "source": [
    "best_params = grid_search.best_params_\n",
    "print(\"Best Hyperparameter: \", best_params)"
   ]
  },
  {
   "cell_type": "code",
   "execution_count": 29,
   "id": "cced4683",
   "metadata": {
    "execution": {
     "iopub.execute_input": "2023-08-30T01:42:49.537410Z",
     "iopub.status.busy": "2023-08-30T01:42:49.537002Z",
     "iopub.status.idle": "2023-08-30T01:42:49.546365Z",
     "shell.execute_reply": "2023-08-30T01:42:49.545166Z"
    },
    "papermill": {
     "duration": 0.038683,
     "end_time": "2023-08-30T01:42:49.548807",
     "exception": false,
     "start_time": "2023-08-30T01:42:49.510124",
     "status": "completed"
    },
    "tags": []
   },
   "outputs": [
    {
     "data": {
      "text/html": [
       "<style>#sk-container-id-2 {color: black;background-color: white;}#sk-container-id-2 pre{padding: 0;}#sk-container-id-2 div.sk-toggleable {background-color: white;}#sk-container-id-2 label.sk-toggleable__label {cursor: pointer;display: block;width: 100%;margin-bottom: 0;padding: 0.3em;box-sizing: border-box;text-align: center;}#sk-container-id-2 label.sk-toggleable__label-arrow:before {content: \"▸\";float: left;margin-right: 0.25em;color: #696969;}#sk-container-id-2 label.sk-toggleable__label-arrow:hover:before {color: black;}#sk-container-id-2 div.sk-estimator:hover label.sk-toggleable__label-arrow:before {color: black;}#sk-container-id-2 div.sk-toggleable__content {max-height: 0;max-width: 0;overflow: hidden;text-align: left;background-color: #f0f8ff;}#sk-container-id-2 div.sk-toggleable__content pre {margin: 0.2em;color: black;border-radius: 0.25em;background-color: #f0f8ff;}#sk-container-id-2 input.sk-toggleable__control:checked~div.sk-toggleable__content {max-height: 200px;max-width: 100%;overflow: auto;}#sk-container-id-2 input.sk-toggleable__control:checked~label.sk-toggleable__label-arrow:before {content: \"▾\";}#sk-container-id-2 div.sk-estimator input.sk-toggleable__control:checked~label.sk-toggleable__label {background-color: #d4ebff;}#sk-container-id-2 div.sk-label input.sk-toggleable__control:checked~label.sk-toggleable__label {background-color: #d4ebff;}#sk-container-id-2 input.sk-hidden--visually {border: 0;clip: rect(1px 1px 1px 1px);clip: rect(1px, 1px, 1px, 1px);height: 1px;margin: -1px;overflow: hidden;padding: 0;position: absolute;width: 1px;}#sk-container-id-2 div.sk-estimator {font-family: monospace;background-color: #f0f8ff;border: 1px dotted black;border-radius: 0.25em;box-sizing: border-box;margin-bottom: 0.5em;}#sk-container-id-2 div.sk-estimator:hover {background-color: #d4ebff;}#sk-container-id-2 div.sk-parallel-item::after {content: \"\";width: 100%;border-bottom: 1px solid gray;flex-grow: 1;}#sk-container-id-2 div.sk-label:hover label.sk-toggleable__label {background-color: #d4ebff;}#sk-container-id-2 div.sk-serial::before {content: \"\";position: absolute;border-left: 1px solid gray;box-sizing: border-box;top: 0;bottom: 0;left: 50%;z-index: 0;}#sk-container-id-2 div.sk-serial {display: flex;flex-direction: column;align-items: center;background-color: white;padding-right: 0.2em;padding-left: 0.2em;position: relative;}#sk-container-id-2 div.sk-item {position: relative;z-index: 1;}#sk-container-id-2 div.sk-parallel {display: flex;align-items: stretch;justify-content: center;background-color: white;position: relative;}#sk-container-id-2 div.sk-item::before, #sk-container-id-2 div.sk-parallel-item::before {content: \"\";position: absolute;border-left: 1px solid gray;box-sizing: border-box;top: 0;bottom: 0;left: 50%;z-index: -1;}#sk-container-id-2 div.sk-parallel-item {display: flex;flex-direction: column;z-index: 1;position: relative;background-color: white;}#sk-container-id-2 div.sk-parallel-item:first-child::after {align-self: flex-end;width: 50%;}#sk-container-id-2 div.sk-parallel-item:last-child::after {align-self: flex-start;width: 50%;}#sk-container-id-2 div.sk-parallel-item:only-child::after {width: 0;}#sk-container-id-2 div.sk-dashed-wrapped {border: 1px dashed gray;margin: 0 0.4em 0.5em 0.4em;box-sizing: border-box;padding-bottom: 0.4em;background-color: white;}#sk-container-id-2 div.sk-label label {font-family: monospace;font-weight: bold;display: inline-block;line-height: 1.2em;}#sk-container-id-2 div.sk-label-container {text-align: center;}#sk-container-id-2 div.sk-container {/* jupyter's `normalize.less` sets `[hidden] { display: none; }` but bootstrap.min.css set `[hidden] { display: none !important; }` so we also need the `!important` here to be able to override the default hidden behavior on the sphinx rendered scikit-learn.org. See: https://github.com/scikit-learn/scikit-learn/issues/21755 */display: inline-block !important;position: relative;}#sk-container-id-2 div.sk-text-repr-fallback {display: none;}</style><div id=\"sk-container-id-2\" class=\"sk-top-container\"><div class=\"sk-text-repr-fallback\"><pre>GradientBoostingRegressor(max_depth=4, min_samples_leaf=3, min_samples_split=4)</pre><b>In a Jupyter environment, please rerun this cell to show the HTML representation or trust the notebook. <br />On GitHub, the HTML representation is unable to render, please try loading this page with nbviewer.org.</b></div><div class=\"sk-container\" hidden><div class=\"sk-item\"><div class=\"sk-estimator sk-toggleable\"><input class=\"sk-toggleable__control sk-hidden--visually\" id=\"sk-estimator-id-4\" type=\"checkbox\" checked><label for=\"sk-estimator-id-4\" class=\"sk-toggleable__label sk-toggleable__label-arrow\">GradientBoostingRegressor</label><div class=\"sk-toggleable__content\"><pre>GradientBoostingRegressor(max_depth=4, min_samples_leaf=3, min_samples_split=4)</pre></div></div></div></div></div>"
      ],
      "text/plain": [
       "GradientBoostingRegressor(max_depth=4, min_samples_leaf=3, min_samples_split=4)"
      ]
     },
     "execution_count": 29,
     "metadata": {},
     "output_type": "execute_result"
    }
   ],
   "source": [
    "best_grid = grid_search.best_estimator_\n",
    "best_grid"
   ]
  },
  {
   "cell_type": "markdown",
   "id": "edb733a4",
   "metadata": {
    "papermill": {
     "duration": 0.026245,
     "end_time": "2023-08-30T01:42:49.600406",
     "exception": false,
     "start_time": "2023-08-30T01:42:49.574161",
     "status": "completed"
    },
    "tags": []
   },
   "source": [
    "Testing the best model on the dataset"
   ]
  },
  {
   "cell_type": "code",
   "execution_count": 30,
   "id": "ccd1ef1d",
   "metadata": {
    "execution": {
     "iopub.execute_input": "2023-08-30T01:42:49.655327Z",
     "iopub.status.busy": "2023-08-30T01:42:49.654861Z",
     "iopub.status.idle": "2023-08-30T01:42:49.670502Z",
     "shell.execute_reply": "2023-08-30T01:42:49.668896Z"
    },
    "papermill": {
     "duration": 0.046386,
     "end_time": "2023-08-30T01:42:49.673254",
     "exception": false,
     "start_time": "2023-08-30T01:42:49.626868",
     "status": "completed"
    },
    "tags": []
   },
   "outputs": [
    {
     "name": "stdout",
     "output_type": "stream",
     "text": [
      "  Mean Squared Error: 1075092093420460.2500\n",
      "  R2 Score: 0.2141\n"
     ]
    }
   ],
   "source": [
    "y_pred = best_grid.predict(X_test)\n",
    "\n",
    "mse = mean_squared_error(y_test, y_pred)\n",
    "r2 = r2_score(y_test, y_pred)\n",
    "print(f\"  Mean Squared Error: {mse:.4f}\")\n",
    "print(f\"  R2 Score: {r2:.4f}\")"
   ]
  },
  {
   "cell_type": "markdown",
   "id": "de09ac20",
   "metadata": {
    "papermill": {
     "duration": 0.025326,
     "end_time": "2023-08-30T01:42:49.724045",
     "exception": false,
     "start_time": "2023-08-30T01:42:49.698719",
     "status": "completed"
    },
    "tags": []
   },
   "source": [
    "RandomSearchCV"
   ]
  },
  {
   "cell_type": "code",
   "execution_count": 31,
   "id": "b214c688",
   "metadata": {
    "execution": {
     "iopub.execute_input": "2023-08-30T01:42:49.777707Z",
     "iopub.status.busy": "2023-08-30T01:42:49.777251Z",
     "iopub.status.idle": "2023-08-30T01:44:33.931221Z",
     "shell.execute_reply": "2023-08-30T01:44:33.929976Z"
    },
    "papermill": {
     "duration": 104.212157,
     "end_time": "2023-08-30T01:44:33.961897",
     "exception": false,
     "start_time": "2023-08-30T01:42:49.749740",
     "status": "completed"
    },
    "tags": []
   },
   "outputs": [
    {
     "data": {
      "text/html": [
       "<style>#sk-container-id-3 {color: black;background-color: white;}#sk-container-id-3 pre{padding: 0;}#sk-container-id-3 div.sk-toggleable {background-color: white;}#sk-container-id-3 label.sk-toggleable__label {cursor: pointer;display: block;width: 100%;margin-bottom: 0;padding: 0.3em;box-sizing: border-box;text-align: center;}#sk-container-id-3 label.sk-toggleable__label-arrow:before {content: \"▸\";float: left;margin-right: 0.25em;color: #696969;}#sk-container-id-3 label.sk-toggleable__label-arrow:hover:before {color: black;}#sk-container-id-3 div.sk-estimator:hover label.sk-toggleable__label-arrow:before {color: black;}#sk-container-id-3 div.sk-toggleable__content {max-height: 0;max-width: 0;overflow: hidden;text-align: left;background-color: #f0f8ff;}#sk-container-id-3 div.sk-toggleable__content pre {margin: 0.2em;color: black;border-radius: 0.25em;background-color: #f0f8ff;}#sk-container-id-3 input.sk-toggleable__control:checked~div.sk-toggleable__content {max-height: 200px;max-width: 100%;overflow: auto;}#sk-container-id-3 input.sk-toggleable__control:checked~label.sk-toggleable__label-arrow:before {content: \"▾\";}#sk-container-id-3 div.sk-estimator input.sk-toggleable__control:checked~label.sk-toggleable__label {background-color: #d4ebff;}#sk-container-id-3 div.sk-label input.sk-toggleable__control:checked~label.sk-toggleable__label {background-color: #d4ebff;}#sk-container-id-3 input.sk-hidden--visually {border: 0;clip: rect(1px 1px 1px 1px);clip: rect(1px, 1px, 1px, 1px);height: 1px;margin: -1px;overflow: hidden;padding: 0;position: absolute;width: 1px;}#sk-container-id-3 div.sk-estimator {font-family: monospace;background-color: #f0f8ff;border: 1px dotted black;border-radius: 0.25em;box-sizing: border-box;margin-bottom: 0.5em;}#sk-container-id-3 div.sk-estimator:hover {background-color: #d4ebff;}#sk-container-id-3 div.sk-parallel-item::after {content: \"\";width: 100%;border-bottom: 1px solid gray;flex-grow: 1;}#sk-container-id-3 div.sk-label:hover label.sk-toggleable__label {background-color: #d4ebff;}#sk-container-id-3 div.sk-serial::before {content: \"\";position: absolute;border-left: 1px solid gray;box-sizing: border-box;top: 0;bottom: 0;left: 50%;z-index: 0;}#sk-container-id-3 div.sk-serial {display: flex;flex-direction: column;align-items: center;background-color: white;padding-right: 0.2em;padding-left: 0.2em;position: relative;}#sk-container-id-3 div.sk-item {position: relative;z-index: 1;}#sk-container-id-3 div.sk-parallel {display: flex;align-items: stretch;justify-content: center;background-color: white;position: relative;}#sk-container-id-3 div.sk-item::before, #sk-container-id-3 div.sk-parallel-item::before {content: \"\";position: absolute;border-left: 1px solid gray;box-sizing: border-box;top: 0;bottom: 0;left: 50%;z-index: -1;}#sk-container-id-3 div.sk-parallel-item {display: flex;flex-direction: column;z-index: 1;position: relative;background-color: white;}#sk-container-id-3 div.sk-parallel-item:first-child::after {align-self: flex-end;width: 50%;}#sk-container-id-3 div.sk-parallel-item:last-child::after {align-self: flex-start;width: 50%;}#sk-container-id-3 div.sk-parallel-item:only-child::after {width: 0;}#sk-container-id-3 div.sk-dashed-wrapped {border: 1px dashed gray;margin: 0 0.4em 0.5em 0.4em;box-sizing: border-box;padding-bottom: 0.4em;background-color: white;}#sk-container-id-3 div.sk-label label {font-family: monospace;font-weight: bold;display: inline-block;line-height: 1.2em;}#sk-container-id-3 div.sk-label-container {text-align: center;}#sk-container-id-3 div.sk-container {/* jupyter's `normalize.less` sets `[hidden] { display: none; }` but bootstrap.min.css set `[hidden] { display: none !important; }` so we also need the `!important` here to be able to override the default hidden behavior on the sphinx rendered scikit-learn.org. See: https://github.com/scikit-learn/scikit-learn/issues/21755 */display: inline-block !important;position: relative;}#sk-container-id-3 div.sk-text-repr-fallback {display: none;}</style><div id=\"sk-container-id-3\" class=\"sk-top-container\"><div class=\"sk-text-repr-fallback\"><pre>RandomizedSearchCV(cv=5, estimator=GradientBoostingRegressor(), n_iter=100,\n",
       "                   n_jobs=-1,\n",
       "                   param_distributions={&#x27;learning_rate&#x27;: [0.01, 0.1, 0.2],\n",
       "                                        &#x27;max_depth&#x27;: [3, 4, 5],\n",
       "                                        &#x27;max_features&#x27;: [&#x27;sqrt&#x27;, &#x27;log2&#x27;],\n",
       "                                        &#x27;min_samples_leaf&#x27;: [1, 2, 4],\n",
       "                                        &#x27;min_samples_split&#x27;: [2, 5, 10],\n",
       "                                        &#x27;n_estimators&#x27;: [100, 200, 300],\n",
       "                                        &#x27;subsample&#x27;: [0.8, 0.9, 1.0]})</pre><b>In a Jupyter environment, please rerun this cell to show the HTML representation or trust the notebook. <br />On GitHub, the HTML representation is unable to render, please try loading this page with nbviewer.org.</b></div><div class=\"sk-container\" hidden><div class=\"sk-item sk-dashed-wrapped\"><div class=\"sk-label-container\"><div class=\"sk-label sk-toggleable\"><input class=\"sk-toggleable__control sk-hidden--visually\" id=\"sk-estimator-id-5\" type=\"checkbox\" ><label for=\"sk-estimator-id-5\" class=\"sk-toggleable__label sk-toggleable__label-arrow\">RandomizedSearchCV</label><div class=\"sk-toggleable__content\"><pre>RandomizedSearchCV(cv=5, estimator=GradientBoostingRegressor(), n_iter=100,\n",
       "                   n_jobs=-1,\n",
       "                   param_distributions={&#x27;learning_rate&#x27;: [0.01, 0.1, 0.2],\n",
       "                                        &#x27;max_depth&#x27;: [3, 4, 5],\n",
       "                                        &#x27;max_features&#x27;: [&#x27;sqrt&#x27;, &#x27;log2&#x27;],\n",
       "                                        &#x27;min_samples_leaf&#x27;: [1, 2, 4],\n",
       "                                        &#x27;min_samples_split&#x27;: [2, 5, 10],\n",
       "                                        &#x27;n_estimators&#x27;: [100, 200, 300],\n",
       "                                        &#x27;subsample&#x27;: [0.8, 0.9, 1.0]})</pre></div></div></div><div class=\"sk-parallel\"><div class=\"sk-parallel-item\"><div class=\"sk-item\"><div class=\"sk-label-container\"><div class=\"sk-label sk-toggleable\"><input class=\"sk-toggleable__control sk-hidden--visually\" id=\"sk-estimator-id-6\" type=\"checkbox\" ><label for=\"sk-estimator-id-6\" class=\"sk-toggleable__label sk-toggleable__label-arrow\">estimator: GradientBoostingRegressor</label><div class=\"sk-toggleable__content\"><pre>GradientBoostingRegressor()</pre></div></div></div><div class=\"sk-serial\"><div class=\"sk-item\"><div class=\"sk-estimator sk-toggleable\"><input class=\"sk-toggleable__control sk-hidden--visually\" id=\"sk-estimator-id-7\" type=\"checkbox\" ><label for=\"sk-estimator-id-7\" class=\"sk-toggleable__label sk-toggleable__label-arrow\">GradientBoostingRegressor</label><div class=\"sk-toggleable__content\"><pre>GradientBoostingRegressor()</pre></div></div></div></div></div></div></div></div></div></div>"
      ],
      "text/plain": [
       "RandomizedSearchCV(cv=5, estimator=GradientBoostingRegressor(), n_iter=100,\n",
       "                   n_jobs=-1,\n",
       "                   param_distributions={'learning_rate': [0.01, 0.1, 0.2],\n",
       "                                        'max_depth': [3, 4, 5],\n",
       "                                        'max_features': ['sqrt', 'log2'],\n",
       "                                        'min_samples_leaf': [1, 2, 4],\n",
       "                                        'min_samples_split': [2, 5, 10],\n",
       "                                        'n_estimators': [100, 200, 300],\n",
       "                                        'subsample': [0.8, 0.9, 1.0]})"
      ]
     },
     "execution_count": 31,
     "metadata": {},
     "output_type": "execute_result"
    }
   ],
   "source": [
    "\n",
    "param_distributions = {\n",
    "    'n_estimators': [100, 200, 300],\n",
    "    'learning_rate': [0.01, 0.1, 0.2],\n",
    "    'max_depth': [3, 4, 5],\n",
    "    'min_samples_split': [2, 5, 10],\n",
    "    'min_samples_leaf': [1, 2, 4],\n",
    "    'subsample': [0.8, 0.9, 1.0],\n",
    "    'max_features': ['sqrt', 'log2']\n",
    "    # Add other hyperparameters to explore\n",
    "}\n",
    "\n",
    "random_search = RandomizedSearchCV(gbr, param_distributions, n_iter=100, cv = 5, n_jobs = -1)\n",
    "\n",
    "random_search.fit(X_train, y_train)"
   ]
  },
  {
   "cell_type": "code",
   "execution_count": 32,
   "id": "02b8df74",
   "metadata": {
    "execution": {
     "iopub.execute_input": "2023-08-30T01:44:34.018397Z",
     "iopub.status.busy": "2023-08-30T01:44:34.017922Z",
     "iopub.status.idle": "2023-08-30T01:44:34.023929Z",
     "shell.execute_reply": "2023-08-30T01:44:34.022811Z"
    },
    "papermill": {
     "duration": 0.037998,
     "end_time": "2023-08-30T01:44:34.026676",
     "exception": false,
     "start_time": "2023-08-30T01:44:33.988678",
     "status": "completed"
    },
    "tags": []
   },
   "outputs": [
    {
     "name": "stdout",
     "output_type": "stream",
     "text": [
      "Best Hyperparameters: {'subsample': 0.8, 'n_estimators': 300, 'min_samples_split': 5, 'min_samples_leaf': 4, 'max_features': 'log2', 'max_depth': 5, 'learning_rate': 0.01}\n"
     ]
    }
   ],
   "source": [
    "best_params_randCV = random_search.best_params_\n",
    "print(\"Best Hyperparameters:\", best_params_randCV)"
   ]
  },
  {
   "cell_type": "code",
   "execution_count": 33,
   "id": "32598e3c",
   "metadata": {
    "execution": {
     "iopub.execute_input": "2023-08-30T01:44:34.083434Z",
     "iopub.status.busy": "2023-08-30T01:44:34.082991Z",
     "iopub.status.idle": "2023-08-30T01:44:34.093859Z",
     "shell.execute_reply": "2023-08-30T01:44:34.092584Z"
    },
    "papermill": {
     "duration": 0.041978,
     "end_time": "2023-08-30T01:44:34.096363",
     "exception": false,
     "start_time": "2023-08-30T01:44:34.054385",
     "status": "completed"
    },
    "tags": []
   },
   "outputs": [
    {
     "data": {
      "text/html": [
       "<style>#sk-container-id-4 {color: black;background-color: white;}#sk-container-id-4 pre{padding: 0;}#sk-container-id-4 div.sk-toggleable {background-color: white;}#sk-container-id-4 label.sk-toggleable__label {cursor: pointer;display: block;width: 100%;margin-bottom: 0;padding: 0.3em;box-sizing: border-box;text-align: center;}#sk-container-id-4 label.sk-toggleable__label-arrow:before {content: \"▸\";float: left;margin-right: 0.25em;color: #696969;}#sk-container-id-4 label.sk-toggleable__label-arrow:hover:before {color: black;}#sk-container-id-4 div.sk-estimator:hover label.sk-toggleable__label-arrow:before {color: black;}#sk-container-id-4 div.sk-toggleable__content {max-height: 0;max-width: 0;overflow: hidden;text-align: left;background-color: #f0f8ff;}#sk-container-id-4 div.sk-toggleable__content pre {margin: 0.2em;color: black;border-radius: 0.25em;background-color: #f0f8ff;}#sk-container-id-4 input.sk-toggleable__control:checked~div.sk-toggleable__content {max-height: 200px;max-width: 100%;overflow: auto;}#sk-container-id-4 input.sk-toggleable__control:checked~label.sk-toggleable__label-arrow:before {content: \"▾\";}#sk-container-id-4 div.sk-estimator input.sk-toggleable__control:checked~label.sk-toggleable__label {background-color: #d4ebff;}#sk-container-id-4 div.sk-label input.sk-toggleable__control:checked~label.sk-toggleable__label {background-color: #d4ebff;}#sk-container-id-4 input.sk-hidden--visually {border: 0;clip: rect(1px 1px 1px 1px);clip: rect(1px, 1px, 1px, 1px);height: 1px;margin: -1px;overflow: hidden;padding: 0;position: absolute;width: 1px;}#sk-container-id-4 div.sk-estimator {font-family: monospace;background-color: #f0f8ff;border: 1px dotted black;border-radius: 0.25em;box-sizing: border-box;margin-bottom: 0.5em;}#sk-container-id-4 div.sk-estimator:hover {background-color: #d4ebff;}#sk-container-id-4 div.sk-parallel-item::after {content: \"\";width: 100%;border-bottom: 1px solid gray;flex-grow: 1;}#sk-container-id-4 div.sk-label:hover label.sk-toggleable__label {background-color: #d4ebff;}#sk-container-id-4 div.sk-serial::before {content: \"\";position: absolute;border-left: 1px solid gray;box-sizing: border-box;top: 0;bottom: 0;left: 50%;z-index: 0;}#sk-container-id-4 div.sk-serial {display: flex;flex-direction: column;align-items: center;background-color: white;padding-right: 0.2em;padding-left: 0.2em;position: relative;}#sk-container-id-4 div.sk-item {position: relative;z-index: 1;}#sk-container-id-4 div.sk-parallel {display: flex;align-items: stretch;justify-content: center;background-color: white;position: relative;}#sk-container-id-4 div.sk-item::before, #sk-container-id-4 div.sk-parallel-item::before {content: \"\";position: absolute;border-left: 1px solid gray;box-sizing: border-box;top: 0;bottom: 0;left: 50%;z-index: -1;}#sk-container-id-4 div.sk-parallel-item {display: flex;flex-direction: column;z-index: 1;position: relative;background-color: white;}#sk-container-id-4 div.sk-parallel-item:first-child::after {align-self: flex-end;width: 50%;}#sk-container-id-4 div.sk-parallel-item:last-child::after {align-self: flex-start;width: 50%;}#sk-container-id-4 div.sk-parallel-item:only-child::after {width: 0;}#sk-container-id-4 div.sk-dashed-wrapped {border: 1px dashed gray;margin: 0 0.4em 0.5em 0.4em;box-sizing: border-box;padding-bottom: 0.4em;background-color: white;}#sk-container-id-4 div.sk-label label {font-family: monospace;font-weight: bold;display: inline-block;line-height: 1.2em;}#sk-container-id-4 div.sk-label-container {text-align: center;}#sk-container-id-4 div.sk-container {/* jupyter's `normalize.less` sets `[hidden] { display: none; }` but bootstrap.min.css set `[hidden] { display: none !important; }` so we also need the `!important` here to be able to override the default hidden behavior on the sphinx rendered scikit-learn.org. See: https://github.com/scikit-learn/scikit-learn/issues/21755 */display: inline-block !important;position: relative;}#sk-container-id-4 div.sk-text-repr-fallback {display: none;}</style><div id=\"sk-container-id-4\" class=\"sk-top-container\"><div class=\"sk-text-repr-fallback\"><pre>GradientBoostingRegressor(learning_rate=0.01, max_depth=5, max_features=&#x27;log2&#x27;,\n",
       "                          min_samples_leaf=4, min_samples_split=5,\n",
       "                          n_estimators=300, subsample=0.8)</pre><b>In a Jupyter environment, please rerun this cell to show the HTML representation or trust the notebook. <br />On GitHub, the HTML representation is unable to render, please try loading this page with nbviewer.org.</b></div><div class=\"sk-container\" hidden><div class=\"sk-item\"><div class=\"sk-estimator sk-toggleable\"><input class=\"sk-toggleable__control sk-hidden--visually\" id=\"sk-estimator-id-8\" type=\"checkbox\" checked><label for=\"sk-estimator-id-8\" class=\"sk-toggleable__label sk-toggleable__label-arrow\">GradientBoostingRegressor</label><div class=\"sk-toggleable__content\"><pre>GradientBoostingRegressor(learning_rate=0.01, max_depth=5, max_features=&#x27;log2&#x27;,\n",
       "                          min_samples_leaf=4, min_samples_split=5,\n",
       "                          n_estimators=300, subsample=0.8)</pre></div></div></div></div></div>"
      ],
      "text/plain": [
       "GradientBoostingRegressor(learning_rate=0.01, max_depth=5, max_features='log2',\n",
       "                          min_samples_leaf=4, min_samples_split=5,\n",
       "                          n_estimators=300, subsample=0.8)"
      ]
     },
     "execution_count": 33,
     "metadata": {},
     "output_type": "execute_result"
    }
   ],
   "source": [
    "best_grid_randCV = random_search.best_estimator_\n",
    "best_grid_randCV"
   ]
  },
  {
   "cell_type": "code",
   "execution_count": 34,
   "id": "86535a06",
   "metadata": {
    "execution": {
     "iopub.execute_input": "2023-08-30T01:44:34.151716Z",
     "iopub.status.busy": "2023-08-30T01:44:34.151204Z",
     "iopub.status.idle": "2023-08-30T01:44:34.185891Z",
     "shell.execute_reply": "2023-08-30T01:44:34.184219Z"
    },
    "papermill": {
     "duration": 0.065345,
     "end_time": "2023-08-30T01:44:34.188558",
     "exception": false,
     "start_time": "2023-08-30T01:44:34.123213",
     "status": "completed"
    },
    "tags": []
   },
   "outputs": [
    {
     "name": "stdout",
     "output_type": "stream",
     "text": [
      "  Mean Squared Error: 1071312095912503.1250\n",
      "  R2 Score: 0.2169\n"
     ]
    }
   ],
   "source": [
    "y_pred = best_grid_randCV.predict(X_test)\n",
    "\n",
    "mse = mean_squared_error(y_test, y_pred)\n",
    "r2 = r2_score(y_test, y_pred)\n",
    "print(f\"  Mean Squared Error: {mse:.4f}\")\n",
    "print(f\"  R2 Score: {r2:.4f}\")"
   ]
  },
  {
   "cell_type": "markdown",
   "id": "7d81ec2e",
   "metadata": {
    "papermill": {
     "duration": 0.027178,
     "end_time": "2023-08-30T01:44:34.243488",
     "exception": false,
     "start_time": "2023-08-30T01:44:34.216310",
     "status": "completed"
    },
    "tags": []
   },
   "source": [
    "We will be going with the RandomSearch Parameters, its kind of tricky the BaseLine model sets the standard and all the models did well, but GradientBoostRegressor was the best and then tuning the hyperparameters a little bit\n",
    "\n",
    "It seems as thought the hyperparameters gave us a little higher MSE and a little lower r2score, just to avoid overfitting it would be accepted  "
   ]
  },
  {
   "cell_type": "code",
   "execution_count": 35,
   "id": "68bec08a",
   "metadata": {
    "execution": {
     "iopub.execute_input": "2023-08-30T01:44:34.299083Z",
     "iopub.status.busy": "2023-08-30T01:44:34.298624Z",
     "iopub.status.idle": "2023-08-30T01:44:34.306870Z",
     "shell.execute_reply": "2023-08-30T01:44:34.305176Z"
    },
    "papermill": {
     "duration": 0.039505,
     "end_time": "2023-08-30T01:44:34.309682",
     "exception": false,
     "start_time": "2023-08-30T01:44:34.270177",
     "status": "completed"
    },
    "tags": []
   },
   "outputs": [],
   "source": [
    "# testing the model\n",
    "\n",
    "def make_prediction(bedrooms, bathrooms, toilets, total_rooms):\n",
    "\n",
    "    data = {\"bedrooms\":bedrooms,\n",
    "            \"bathrooms\":bathrooms,\n",
    "            \"toilets\":toilets,\n",
    "            \"total_rooms\":total_rooms\n",
    "    }\n",
    "    \n",
    "    df = pd.DataFrame(data, index=[0])\n",
    "    prediction = best_grid_randCV.predict(df)\n",
    "    return f\"Predicted apartment price: ₦{prediction}\""
   ]
  },
  {
   "cell_type": "code",
   "execution_count": 36,
   "id": "ad9634b0",
   "metadata": {
    "execution": {
     "iopub.execute_input": "2023-08-30T01:44:34.366159Z",
     "iopub.status.busy": "2023-08-30T01:44:34.365686Z",
     "iopub.status.idle": "2023-08-30T01:44:34.378784Z",
     "shell.execute_reply": "2023-08-30T01:44:34.377237Z"
    },
    "papermill": {
     "duration": 0.044138,
     "end_time": "2023-08-30T01:44:34.381469",
     "exception": false,
     "start_time": "2023-08-30T01:44:34.337331",
     "status": "completed"
    },
    "tags": []
   },
   "outputs": [
    {
     "data": {
      "text/plain": [
       "'Predicted apartment price: ₦[75524752.70816699]'"
      ]
     },
     "execution_count": 36,
     "metadata": {},
     "output_type": "execute_result"
    }
   ],
   "source": [
    "# testing \n",
    "make_prediction(bedrooms = 3, bathrooms = 4,toilets = 6, total_rooms = 16)"
   ]
  },
  {
   "cell_type": "markdown",
   "id": "17b7b05c",
   "metadata": {
    "papermill": {
     "duration": 0.026316,
     "end_time": "2023-08-30T01:44:34.434796",
     "exception": false,
     "start_time": "2023-08-30T01:44:34.408480",
     "status": "completed"
    },
    "tags": []
   },
   "source": []
  },
  {
   "cell_type": "markdown",
   "id": "25a761d0",
   "metadata": {
    "papermill": {
     "duration": 0.026741,
     "end_time": "2023-08-30T01:44:34.488726",
     "exception": false,
     "start_time": "2023-08-30T01:44:34.461985",
     "status": "completed"
    },
    "tags": []
   },
   "source": [
    "Making an interactive layout"
   ]
  },
  {
   "cell_type": "code",
   "execution_count": null,
   "id": "8f92190f",
   "metadata": {
    "execution": {
     "iopub.execute_input": "2023-08-30T01:44:34.543704Z",
     "iopub.status.busy": "2023-08-30T01:44:34.543254Z",
     "iopub.status.idle": "2023-08-30T01:44:34.601245Z",
     "shell.execute_reply": "2023-08-30T01:44:34.599708Z"
    },
    "papermill": {
     "duration": 0.088402,
     "end_time": "2023-08-30T01:44:34.603736",
     "exception": false,
     "start_time": "2023-08-30T01:44:34.515334",
     "status": "completed"
    },
    "tags": []
   },
   "outputs": [],
   "source": [
    "\n",
    "custom_font_style = {\n",
    "    'font-family': 'Arial',   \n",
    "    'font-size': '20px'      \n",
    "}\n",
    "\n",
    "interact(\n",
    "    make_prediction,    \n",
    "    bedrooms=IntSlider(\n",
    "        min=X_train[\"bedrooms\"].min(),\n",
    "        max=X_train[\"bedrooms\"].max(),\n",
    "        value=X_train[\"bedrooms\"].mean(),\n",
    "        style=custom_font_style\n",
    "    ),\n",
    "    bathrooms=IntSlider(\n",
    "        min=X_train[\"bathrooms\"].min(),\n",
    "        max=X_train[\"bathrooms\"].max(),\n",
    "        step=1,\n",
    "        value=X_train[\"bathrooms\"].mean(),\n",
    "        style=custom_font_style\n",
    "    ),\n",
    "    toilets=IntSlider(\n",
    "        min=X_train[\"toilets\"].min(),\n",
    "        max=X_train[\"toilets\"].max(),\n",
    "        step=1,\n",
    "        value=X_train[\"toilets\"].mean(),\n",
    "        style=custom_font_style\n",
    "    ),\n",
    "    total_rooms=IntSlider(\n",
    "        min=X_train[\"total_rooms\"].min(),\n",
    "        max=X_train[\"total_rooms\"].max(),\n",
    "        step=1,\n",
    "        value=X_train[\"total_rooms\"].mean(),\n",
    "        style=custom_font_style\n",
    "    )\n",
    "    \n",
    ");"
   ]
  },
  {
   "cell_type": "markdown",
   "id": "37af304d",
   "metadata": {
    "papermill": {
     "duration": 0.026449,
     "end_time": "2023-08-30T01:44:34.657987",
     "exception": false,
     "start_time": "2023-08-30T01:44:34.631538",
     "status": "completed"
    },
    "tags": []
   },
   "source": []
  }
 ],
 "kernelspec": {
  "display_name": "Python 3",
  "language": "python",
  "name": "python3"
 },
 "language_info": {
  "codemirror_mode": {
   "name": "ipython",
   "version": 3
  },
  "file_extension": ".py",
  "mimetype": "text/x-python",
  "name": "python",
  "nbconvert_exporter": "python",
  "pygments_lexer": "ipython3",
  "version": "3.6.4"
 },
 "metadata": {
  "kernelspec": {
   "display_name": "Python 3",
   "language": "python",
   "name": "python3"
  },
  "language_info": {
   "codemirror_mode": {
    "name": "ipython",
    "version": 3
   },
   "file_extension": ".py",
   "mimetype": "text/x-python",
   "name": "python",
   "nbconvert_exporter": "python",
   "pygments_lexer": "ipython3",
   "version": "3.10.12"
  },
  "papermill": {
   "default_parameters": {},
   "duration": 326.139184,
   "end_time": "2023-08-30T01:44:37.307791",
   "environment_variables": {},
   "exception": null,
   "input_path": "__notebook__.ipynb",
   "output_path": "__notebook__.ipynb",
   "parameters": {},
   "start_time": "2023-08-30T01:39:11.168607",
   "version": "2.4.0"
  },
  "vscode": {
   "interpreter": {
    "hash": "3369b3a75f9b9f773b7395262b1c35dbdb20bc837bfadc97feb5ad4b64f8b5a0"
   }
  },
  "widgets": {
   "application/vnd.jupyter.widget-state+json": {
    "state": {
     "1c591ccbb335440c9a46c2c763bd7438": {
      "model_module": "@jupyter-widgets/controls",
      "model_module_version": "1.5.0",
      "model_name": "IntSliderModel",
      "state": {
       "_dom_classes": [],
       "_model_module": "@jupyter-widgets/controls",
       "_model_module_version": "1.5.0",
       "_model_name": "IntSliderModel",
       "_view_count": null,
       "_view_module": "@jupyter-widgets/controls",
       "_view_module_version": "1.5.0",
       "_view_name": "IntSliderView",
       "continuous_update": true,
       "description": "total_rooms",
       "description_tooltip": null,
       "disabled": false,
       "layout": "IPY_MODEL_cbd2e4629c474619a87c1b7697b8e36f",
       "max": 33,
       "min": 4,
       "orientation": "horizontal",
       "readout": true,
       "readout_format": "d",
       "step": 1,
       "style": "IPY_MODEL_4766f98a6e524fe5a6a05d68ff0c5693",
       "value": 18
      }
     },
     "218113666ac84d79979fc39cb18be636": {
      "model_module": "@jupyter-widgets/base",
      "model_module_version": "1.2.0",
      "model_name": "LayoutModel",
      "state": {
       "_model_module": "@jupyter-widgets/base",
       "_model_module_version": "1.2.0",
       "_model_name": "LayoutModel",
       "_view_count": null,
       "_view_module": "@jupyter-widgets/base",
       "_view_module_version": "1.2.0",
       "_view_name": "LayoutView",
       "align_content": null,
       "align_items": null,
       "align_self": null,
       "border": null,
       "bottom": null,
       "display": null,
       "flex": null,
       "flex_flow": null,
       "grid_area": null,
       "grid_auto_columns": null,
       "grid_auto_flow": null,
       "grid_auto_rows": null,
       "grid_column": null,
       "grid_gap": null,
       "grid_row": null,
       "grid_template_areas": null,
       "grid_template_columns": null,
       "grid_template_rows": null,
       "height": null,
       "justify_content": null,
       "justify_items": null,
       "left": null,
       "margin": null,
       "max_height": null,
       "max_width": null,
       "min_height": null,
       "min_width": null,
       "object_fit": null,
       "object_position": null,
       "order": null,
       "overflow": null,
       "overflow_x": null,
       "overflow_y": null,
       "padding": null,
       "right": null,
       "top": null,
       "visibility": null,
       "width": null
      }
     },
     "473ff5135e754c599a52b3b52a33fabb": {
      "model_module": "@jupyter-widgets/controls",
      "model_module_version": "1.5.0",
      "model_name": "IntSliderModel",
      "state": {
       "_dom_classes": [],
       "_model_module": "@jupyter-widgets/controls",
       "_model_module_version": "1.5.0",
       "_model_name": "IntSliderModel",
       "_view_count": null,
       "_view_module": "@jupyter-widgets/controls",
       "_view_module_version": "1.5.0",
       "_view_name": "IntSliderView",
       "continuous_update": true,
       "description": "bathrooms",
       "description_tooltip": null,
       "disabled": false,
       "layout": "IPY_MODEL_218113666ac84d79979fc39cb18be636",
       "max": 9,
       "min": 1,
       "orientation": "horizontal",
       "readout": true,
       "readout_format": "d",
       "step": 1,
       "style": "IPY_MODEL_fdfab8e3ecdc4b979eea58534d6c4f33",
       "value": 4
      }
     },
     "4766f98a6e524fe5a6a05d68ff0c5693": {
      "model_module": "@jupyter-widgets/controls",
      "model_module_version": "1.5.0",
      "model_name": "SliderStyleModel",
      "state": {
       "_model_module": "@jupyter-widgets/controls",
       "_model_module_version": "1.5.0",
       "_model_name": "SliderStyleModel",
       "_view_count": null,
       "_view_module": "@jupyter-widgets/base",
       "_view_module_version": "1.2.0",
       "_view_name": "StyleView",
       "description_width": "",
       "handle_color": null
      }
     },
     "5beb0a6ee691412abe996e7b901f39ac": {
      "model_module": "@jupyter-widgets/base",
      "model_module_version": "1.2.0",
      "model_name": "LayoutModel",
      "state": {
       "_model_module": "@jupyter-widgets/base",
       "_model_module_version": "1.2.0",
       "_model_name": "LayoutModel",
       "_view_count": null,
       "_view_module": "@jupyter-widgets/base",
       "_view_module_version": "1.2.0",
       "_view_name": "LayoutView",
       "align_content": null,
       "align_items": null,
       "align_self": null,
       "border": null,
       "bottom": null,
       "display": null,
       "flex": null,
       "flex_flow": null,
       "grid_area": null,
       "grid_auto_columns": null,
       "grid_auto_flow": null,
       "grid_auto_rows": null,
       "grid_column": null,
       "grid_gap": null,
       "grid_row": null,
       "grid_template_areas": null,
       "grid_template_columns": null,
       "grid_template_rows": null,
       "height": null,
       "justify_content": null,
       "justify_items": null,
       "left": null,
       "margin": null,
       "max_height": null,
       "max_width": null,
       "min_height": null,
       "min_width": null,
       "object_fit": null,
       "object_position": null,
       "order": null,
       "overflow": null,
       "overflow_x": null,
       "overflow_y": null,
       "padding": null,
       "right": null,
       "top": null,
       "visibility": null,
       "width": null
      }
     },
     "6ac6ed9d5fef47e8aa764a78a5185a30": {
      "model_module": "@jupyter-widgets/controls",
      "model_module_version": "1.5.0",
      "model_name": "SliderStyleModel",
      "state": {
       "_model_module": "@jupyter-widgets/controls",
       "_model_module_version": "1.5.0",
       "_model_name": "SliderStyleModel",
       "_view_count": null,
       "_view_module": "@jupyter-widgets/base",
       "_view_module_version": "1.2.0",
       "_view_name": "StyleView",
       "description_width": "",
       "handle_color": null
      }
     },
     "7ad9d5afc2cb46a7b87e23bbf1e68846": {
      "model_module": "@jupyter-widgets/base",
      "model_module_version": "1.2.0",
      "model_name": "LayoutModel",
      "state": {
       "_model_module": "@jupyter-widgets/base",
       "_model_module_version": "1.2.0",
       "_model_name": "LayoutModel",
       "_view_count": null,
       "_view_module": "@jupyter-widgets/base",
       "_view_module_version": "1.2.0",
       "_view_name": "LayoutView",
       "align_content": null,
       "align_items": null,
       "align_self": null,
       "border": null,
       "bottom": null,
       "display": null,
       "flex": null,
       "flex_flow": null,
       "grid_area": null,
       "grid_auto_columns": null,
       "grid_auto_flow": null,
       "grid_auto_rows": null,
       "grid_column": null,
       "grid_gap": null,
       "grid_row": null,
       "grid_template_areas": null,
       "grid_template_columns": null,
       "grid_template_rows": null,
       "height": null,
       "justify_content": null,
       "justify_items": null,
       "left": null,
       "margin": null,
       "max_height": null,
       "max_width": null,
       "min_height": null,
       "min_width": null,
       "object_fit": null,
       "object_position": null,
       "order": null,
       "overflow": null,
       "overflow_x": null,
       "overflow_y": null,
       "padding": null,
       "right": null,
       "top": null,
       "visibility": null,
       "width": null
      }
     },
     "98a81931ee9f408baa5e8f2c54a22daa": {
      "model_module": "@jupyter-widgets/controls",
      "model_module_version": "1.5.0",
      "model_name": "IntSliderModel",
      "state": {
       "_dom_classes": [],
       "_model_module": "@jupyter-widgets/controls",
       "_model_module_version": "1.5.0",
       "_model_name": "IntSliderModel",
       "_view_count": null,
       "_view_module": "@jupyter-widgets/controls",
       "_view_module_version": "1.5.0",
       "_view_name": "IntSliderView",
       "continuous_update": true,
       "description": "bedrooms",
       "description_tooltip": null,
       "disabled": false,
       "layout": "IPY_MODEL_fa88bd02c6624c1d9e8e199f1460330b",
       "max": 9,
       "min": 1,
       "orientation": "horizontal",
       "readout": true,
       "readout_format": "d",
       "step": 1,
       "style": "IPY_MODEL_f87164fa667f4715a1fec6f871c03953",
       "value": 4
      }
     },
     "a22f439d2d984c90a6f492d593a8d6bf": {
      "model_module": "@jupyter-widgets/base",
      "model_module_version": "1.2.0",
      "model_name": "LayoutModel",
      "state": {
       "_model_module": "@jupyter-widgets/base",
       "_model_module_version": "1.2.0",
       "_model_name": "LayoutModel",
       "_view_count": null,
       "_view_module": "@jupyter-widgets/base",
       "_view_module_version": "1.2.0",
       "_view_name": "LayoutView",
       "align_content": null,
       "align_items": null,
       "align_self": null,
       "border": null,
       "bottom": null,
       "display": null,
       "flex": null,
       "flex_flow": null,
       "grid_area": null,
       "grid_auto_columns": null,
       "grid_auto_flow": null,
       "grid_auto_rows": null,
       "grid_column": null,
       "grid_gap": null,
       "grid_row": null,
       "grid_template_areas": null,
       "grid_template_columns": null,
       "grid_template_rows": null,
       "height": null,
       "justify_content": null,
       "justify_items": null,
       "left": null,
       "margin": null,
       "max_height": null,
       "max_width": null,
       "min_height": null,
       "min_width": null,
       "object_fit": null,
       "object_position": null,
       "order": null,
       "overflow": null,
       "overflow_x": null,
       "overflow_y": null,
       "padding": null,
       "right": null,
       "top": null,
       "visibility": null,
       "width": null
      }
     },
     "cbd2e4629c474619a87c1b7697b8e36f": {
      "model_module": "@jupyter-widgets/base",
      "model_module_version": "1.2.0",
      "model_name": "LayoutModel",
      "state": {
       "_model_module": "@jupyter-widgets/base",
       "_model_module_version": "1.2.0",
       "_model_name": "LayoutModel",
       "_view_count": null,
       "_view_module": "@jupyter-widgets/base",
       "_view_module_version": "1.2.0",
       "_view_name": "LayoutView",
       "align_content": null,
       "align_items": null,
       "align_self": null,
       "border": null,
       "bottom": null,
       "display": null,
       "flex": null,
       "flex_flow": null,
       "grid_area": null,
       "grid_auto_columns": null,
       "grid_auto_flow": null,
       "grid_auto_rows": null,
       "grid_column": null,
       "grid_gap": null,
       "grid_row": null,
       "grid_template_areas": null,
       "grid_template_columns": null,
       "grid_template_rows": null,
       "height": null,
       "justify_content": null,
       "justify_items": null,
       "left": null,
       "margin": null,
       "max_height": null,
       "max_width": null,
       "min_height": null,
       "min_width": null,
       "object_fit": null,
       "object_position": null,
       "order": null,
       "overflow": null,
       "overflow_x": null,
       "overflow_y": null,
       "padding": null,
       "right": null,
       "top": null,
       "visibility": null,
       "width": null
      }
     },
     "cef8ba03e2254f4cb3d583da620018f4": {
      "model_module": "@jupyter-widgets/controls",
      "model_module_version": "1.5.0",
      "model_name": "VBoxModel",
      "state": {
       "_dom_classes": [
        "widget-interact"
       ],
       "_model_module": "@jupyter-widgets/controls",
       "_model_module_version": "1.5.0",
       "_model_name": "VBoxModel",
       "_view_count": null,
       "_view_module": "@jupyter-widgets/controls",
       "_view_module_version": "1.5.0",
       "_view_name": "VBoxView",
       "box_style": "",
       "children": [
        "IPY_MODEL_98a81931ee9f408baa5e8f2c54a22daa",
        "IPY_MODEL_473ff5135e754c599a52b3b52a33fabb",
        "IPY_MODEL_f36a9044d7d7403caafbcb36ff4c65bd",
        "IPY_MODEL_1c591ccbb335440c9a46c2c763bd7438",
        "IPY_MODEL_e7a071e3c9354919bd282dc6cf2b6b79"
       ],
       "layout": "IPY_MODEL_a22f439d2d984c90a6f492d593a8d6bf"
      }
     },
     "e7a071e3c9354919bd282dc6cf2b6b79": {
      "model_module": "@jupyter-widgets/output",
      "model_module_version": "1.0.0",
      "model_name": "OutputModel",
      "state": {
       "_dom_classes": [],
       "_model_module": "@jupyter-widgets/output",
       "_model_module_version": "1.0.0",
       "_model_name": "OutputModel",
       "_view_count": null,
       "_view_module": "@jupyter-widgets/output",
       "_view_module_version": "1.0.0",
       "_view_name": "OutputView",
       "layout": "IPY_MODEL_5beb0a6ee691412abe996e7b901f39ac",
       "msg_id": "",
       "outputs": [
        {
         "data": {
          "text/plain": "'Predicted apartment price: ₦[83970342.78643201]'"
         },
         "metadata": {},
         "output_type": "display_data"
        }
       ]
      }
     },
     "f36a9044d7d7403caafbcb36ff4c65bd": {
      "model_module": "@jupyter-widgets/controls",
      "model_module_version": "1.5.0",
      "model_name": "IntSliderModel",
      "state": {
       "_dom_classes": [],
       "_model_module": "@jupyter-widgets/controls",
       "_model_module_version": "1.5.0",
       "_model_name": "IntSliderModel",
       "_view_count": null,
       "_view_module": "@jupyter-widgets/controls",
       "_view_module_version": "1.5.0",
       "_view_name": "IntSliderView",
       "continuous_update": true,
       "description": "toilets",
       "description_tooltip": null,
       "disabled": false,
       "layout": "IPY_MODEL_7ad9d5afc2cb46a7b87e23bbf1e68846",
       "max": 9,
       "min": 1,
       "orientation": "horizontal",
       "readout": true,
       "readout_format": "d",
       "step": 1,
       "style": "IPY_MODEL_6ac6ed9d5fef47e8aa764a78a5185a30",
       "value": 5
      }
     },
     "f87164fa667f4715a1fec6f871c03953": {
      "model_module": "@jupyter-widgets/controls",
      "model_module_version": "1.5.0",
      "model_name": "SliderStyleModel",
      "state": {
       "_model_module": "@jupyter-widgets/controls",
       "_model_module_version": "1.5.0",
       "_model_name": "SliderStyleModel",
       "_view_count": null,
       "_view_module": "@jupyter-widgets/base",
       "_view_module_version": "1.2.0",
       "_view_name": "StyleView",
       "description_width": "",
       "handle_color": null
      }
     },
     "fa88bd02c6624c1d9e8e199f1460330b": {
      "model_module": "@jupyter-widgets/base",
      "model_module_version": "1.2.0",
      "model_name": "LayoutModel",
      "state": {
       "_model_module": "@jupyter-widgets/base",
       "_model_module_version": "1.2.0",
       "_model_name": "LayoutModel",
       "_view_count": null,
       "_view_module": "@jupyter-widgets/base",
       "_view_module_version": "1.2.0",
       "_view_name": "LayoutView",
       "align_content": null,
       "align_items": null,
       "align_self": null,
       "border": null,
       "bottom": null,
       "display": null,
       "flex": null,
       "flex_flow": null,
       "grid_area": null,
       "grid_auto_columns": null,
       "grid_auto_flow": null,
       "grid_auto_rows": null,
       "grid_column": null,
       "grid_gap": null,
       "grid_row": null,
       "grid_template_areas": null,
       "grid_template_columns": null,
       "grid_template_rows": null,
       "height": null,
       "justify_content": null,
       "justify_items": null,
       "left": null,
       "margin": null,
       "max_height": null,
       "max_width": null,
       "min_height": null,
       "min_width": null,
       "object_fit": null,
       "object_position": null,
       "order": null,
       "overflow": null,
       "overflow_x": null,
       "overflow_y": null,
       "padding": null,
       "right": null,
       "top": null,
       "visibility": null,
       "width": null
      }
     },
     "fdfab8e3ecdc4b979eea58534d6c4f33": {
      "model_module": "@jupyter-widgets/controls",
      "model_module_version": "1.5.0",
      "model_name": "SliderStyleModel",
      "state": {
       "_model_module": "@jupyter-widgets/controls",
       "_model_module_version": "1.5.0",
       "_model_name": "SliderStyleModel",
       "_view_count": null,
       "_view_module": "@jupyter-widgets/base",
       "_view_module_version": "1.2.0",
       "_view_name": "StyleView",
       "description_width": "",
       "handle_color": null
      }
     }
    },
    "version_major": 2,
    "version_minor": 0
   }
  }
 },
 "nbformat": 4,
 "nbformat_minor": 5
}
